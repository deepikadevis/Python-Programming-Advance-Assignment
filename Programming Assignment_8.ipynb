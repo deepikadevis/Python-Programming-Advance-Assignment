{
 "cells": [
  {
   "cell_type": "markdown",
   "id": "c55d57cb",
   "metadata": {},
   "source": [
    "# Python Advanced Programming Assignment 08"
   ]
  },
  {
   "cell_type": "markdown",
   "id": "48b160dd",
   "metadata": {},
   "source": [
    "#  1. Given a sentence as txt, return True if any two adjacent words have this property: One word ends with a vowel, while the word immediately after begins with a vowel (a e i o u)."
   ]
  },
  {
   "cell_type": "markdown",
   "id": "bc4ee535",
   "metadata": {},
   "source": [
    "Examples\n",
    "\n",
    "vowel_links('a very large appliance') ➞ True\n",
    "\n",
    "vowel_links('go to edabit') ➞ True\n",
    "\n",
    "vowel_links('an open fire') ➞ False\n",
    "\n",
    "vowel_links('a sudden applause') ➞ False"
   ]
  },
  {
   "cell_type": "code",
   "execution_count": 72,
   "id": "546d966c",
   "metadata": {},
   "outputs": [],
   "source": [
    "def vowel_links(txt):   \n",
    "\n",
    "    vowel = 'aeiou'                        # check the vowels\n",
    "    lst = txt.split(\" \")                   # split the texts in the list\n",
    "\n",
    "    found = False                          # lets set we have not met the condition\n",
    "    i = 0\n",
    "    j = 0\n",
    "    while i < len(lst)-1:                  # loops through the list elements\n",
    "        j = i + 1    \n",
    "        vl = lst[i][-1]\n",
    "        vf = lst[j][0]\n",
    "        if vl in vowel and vf in vowel:     # if last letter ends with vowel and first letter stats with vowel and adjacent words\n",
    "            found = True\n",
    "        i += 1\n",
    "        j += 1\n",
    "    return found\n",
    "        "
   ]
  },
  {
   "cell_type": "code",
   "execution_count": 73,
   "id": "582cecd0",
   "metadata": {
    "scrolled": true
   },
   "outputs": [
    {
     "data": {
      "text/plain": [
       "True"
      ]
     },
     "execution_count": 73,
     "metadata": {},
     "output_type": "execute_result"
    }
   ],
   "source": [
    "vowel_links('a very large appliance')"
   ]
  },
  {
   "cell_type": "code",
   "execution_count": 74,
   "id": "a583bfed",
   "metadata": {},
   "outputs": [
    {
     "data": {
      "text/plain": [
       "True"
      ]
     },
     "execution_count": 74,
     "metadata": {},
     "output_type": "execute_result"
    }
   ],
   "source": [
    "vowel_links('go to edabit')"
   ]
  },
  {
   "cell_type": "code",
   "execution_count": 75,
   "id": "a8d3aaed",
   "metadata": {},
   "outputs": [
    {
     "data": {
      "text/plain": [
       "False"
      ]
     },
     "execution_count": 75,
     "metadata": {},
     "output_type": "execute_result"
    }
   ],
   "source": [
    "vowel_links('an open fire')"
   ]
  },
  {
   "cell_type": "code",
   "execution_count": 76,
   "id": "ac779936",
   "metadata": {},
   "outputs": [
    {
     "data": {
      "text/plain": [
       "False"
      ]
     },
     "execution_count": 76,
     "metadata": {},
     "output_type": "execute_result"
    }
   ],
   "source": [
    "vowel_links('a sudden applause')"
   ]
  },
  {
   "cell_type": "markdown",
   "id": "1368e0d2",
   "metadata": {},
   "source": [
    "## 2. You are given three inputs: a string, one letter, and a second letter. Write a function that returns True if every instance of the first letter occurs before every instance of the second letter."
   ]
  },
  {
   "cell_type": "markdown",
   "id": "59971f45",
   "metadata": {},
   "source": [
    "Examples\n",
    "\n",
    "first_before_second('a rabbit jumps joyfully', 'a', 'j') ➞ True\n",
    "\n",
    "#Every instance of 'a' occurs before every instance of 'j'.\n",
    "\n",
    "first_before_second('knaves knew about waterfalls', 'k', 'w') ➞ True\n",
    "\n",
    "first_before_second('happy birthday', 'a', 'y') ➞ False\n",
    "\n",
    "#The 'a' in 'birthday' occurs after the 'y' in 'happy'.\n",
    "\n",
    "first_before_second('precarious kangaroos', 'k', 'a') ➞ False"
   ]
  },
  {
   "cell_type": "code",
   "execution_count": 77,
   "id": "d6ed805e",
   "metadata": {},
   "outputs": [],
   "source": [
    "def first_before_second(string,first,second):\n",
    "    string=''.join(string)\n",
    "    second_index=[i for i in range(len(string)) if (string[i:i + len(second)] == second)]\n",
    "    first_index=[i for i in range(len(string)) if (string[i:i + len(first)] == first)]\n",
    "    zip_list=list(zip(first_index,second_index))\n",
    "    val=[]\n",
    "    for i in zip_list:\n",
    "        if i[0]<i[1]:\n",
    "            val.append(True)\n",
    "        else:\n",
    "            val.append(False)\n",
    "    if all(val)==True:\n",
    "        return True\n",
    "    return False"
   ]
  },
  {
   "cell_type": "code",
   "execution_count": 78,
   "id": "8c8517fc",
   "metadata": {},
   "outputs": [
    {
     "data": {
      "text/plain": [
       "True"
      ]
     },
     "execution_count": 78,
     "metadata": {},
     "output_type": "execute_result"
    }
   ],
   "source": [
    "first_before_second('a rabbit jumps joyfully', 'a', 'j')"
   ]
  },
  {
   "cell_type": "code",
   "execution_count": 79,
   "id": "4d6aaa0e",
   "metadata": {},
   "outputs": [
    {
     "data": {
      "text/plain": [
       "True"
      ]
     },
     "execution_count": 79,
     "metadata": {},
     "output_type": "execute_result"
    }
   ],
   "source": [
    "first_before_second('knaves knew about waterfalls', 'k', 'w')"
   ]
  },
  {
   "cell_type": "code",
   "execution_count": 80,
   "id": "cb6ef64f",
   "metadata": {},
   "outputs": [
    {
     "data": {
      "text/plain": [
       "True"
      ]
     },
     "execution_count": 80,
     "metadata": {},
     "output_type": "execute_result"
    }
   ],
   "source": [
    "first_before_second('happy birthday', 'a', 'y')"
   ]
  },
  {
   "cell_type": "code",
   "execution_count": 81,
   "id": "2b373db9",
   "metadata": {},
   "outputs": [
    {
     "data": {
      "text/plain": [
       "False"
      ]
     },
     "execution_count": 81,
     "metadata": {},
     "output_type": "execute_result"
    }
   ],
   "source": [
    "first_before_second('precarious kangaroos', 'k', 'a')"
   ]
  },
  {
   "cell_type": "markdown",
   "id": "14356cbc",
   "metadata": {},
   "source": [
    "## 3. Create a function that returns the characters from a list or string r on odd or even positions, depending on the specifier s. The specifier will be &quot;odd&quot; for items on odd positions (1, 3, 5, ...) and &quot;even&quot; for items on even positions (2, 4, 6, ...)."
   ]
  },
  {
   "cell_type": "markdown",
   "id": "b82fbcc9",
   "metadata": {},
   "source": [
    "Examples\n",
    "\n",
    "char_at_pos([2, 4, 6, 8, 10], 'even') ➞ [4, 8]\n",
    "\n",
    "#4 & 8 occupy the 2nd & 4th positions\n",
    "\n",
    "char_at_pos('EDABIT', 'odd') ➞ 'EAI'\n",
    "\n",
    "#E', 'A' and 'I' occupy the 1st, 3rd and 5th positions\n",
    "\n",
    "char_at_pos(['A', 'R', 'B', 'I', 'T', 'R', 'A', 'R', 'I', 'L', 'Y'], 'odd') ➞ ['A',\n",
    "'B', 'T', 'A', 'I', 'Y']"
   ]
  },
  {
   "cell_type": "code",
   "execution_count": 82,
   "id": "afb3129c",
   "metadata": {},
   "outputs": [],
   "source": [
    "def char_at_pos(iterable,specifier):\n",
    "    l=[]\n",
    "\n",
    "    if specifier.lower()=='even':\n",
    "        for i in iterable:\n",
    "            if (iterable.index(i)+1)%2==0:\n",
    "                l.append(i)\n",
    "    \n",
    "    elif specifier.lower()=='odd':\n",
    "        for i in iterable:\n",
    "            if (iterable.index(i)+1)%2!=0:\n",
    "                l.append(i)        \n",
    "    \n",
    "    return l\n",
    "              "
   ]
  },
  {
   "cell_type": "code",
   "execution_count": 83,
   "id": "ad993e00",
   "metadata": {},
   "outputs": [
    {
     "data": {
      "text/plain": [
       "[4, 8]"
      ]
     },
     "execution_count": 83,
     "metadata": {},
     "output_type": "execute_result"
    }
   ],
   "source": [
    "char_at_pos([2, 4, 6, 8, 10], 'even')"
   ]
  },
  {
   "cell_type": "code",
   "execution_count": 84,
   "id": "58a9a529",
   "metadata": {},
   "outputs": [
    {
     "data": {
      "text/plain": [
       "['E', 'A', 'I']"
      ]
     },
     "execution_count": 84,
     "metadata": {},
     "output_type": "execute_result"
    }
   ],
   "source": [
    "char_at_pos('EDABIT', 'odd')"
   ]
  },
  {
   "cell_type": "code",
   "execution_count": 85,
   "id": "ef2650f5",
   "metadata": {},
   "outputs": [
    {
     "data": {
      "text/plain": [
       "['A', 'B', 'T', 'A', 'Y']"
      ]
     },
     "execution_count": 85,
     "metadata": {},
     "output_type": "execute_result"
    }
   ],
   "source": [
    "char_at_pos(['A', 'R', 'B', 'I', 'T', 'R', 'A', 'R', 'I', 'L', 'Y'], 'odd')"
   ]
  },
  {
   "cell_type": "markdown",
   "id": "57f90949",
   "metadata": {},
   "source": [
    "## 4. Write a function that returns the greatest common divisor of all list elements. If the greatest common divisor is 1, return 1."
   ]
  },
  {
   "cell_type": "markdown",
   "id": "cc95b749",
   "metadata": {},
   "source": [
    "Examples\n",
    "\n",
    "GCD([10, 20, 40]) ➞ 10\n",
    "\n",
    "GCD([1, 2, 3, 100]) ➞ 1\n",
    "\n",
    "GCD([1024, 192, 2048, 512]) ➞ 64"
   ]
  },
  {
   "cell_type": "code",
   "execution_count": 86,
   "id": "0c6c2907",
   "metadata": {},
   "outputs": [],
   "source": [
    "def find_gcd(x, y):\n",
    "    while(y):\n",
    "        x, y = y, x % y  \n",
    "    return x      \n",
    "      \n",
    "def GCD(data):\n",
    "    \n",
    "    num1=data[0]\n",
    "    num2=data[1]\n",
    "    gcd=find_gcd(num1,num2)\n",
    "\n",
    "    for i in range(2,len(data)):\n",
    "        gcd=find_gcd(gcd,data[i])\n",
    "\n",
    "    return gcd"
   ]
  },
  {
   "cell_type": "code",
   "execution_count": 87,
   "id": "ab6faf60",
   "metadata": {},
   "outputs": [
    {
     "data": {
      "text/plain": [
       "10"
      ]
     },
     "execution_count": 87,
     "metadata": {},
     "output_type": "execute_result"
    }
   ],
   "source": [
    "GCD([10, 20, 40]) "
   ]
  },
  {
   "cell_type": "code",
   "execution_count": 88,
   "id": "6a1860c1",
   "metadata": {},
   "outputs": [
    {
     "data": {
      "text/plain": [
       "1"
      ]
     },
     "execution_count": 88,
     "metadata": {},
     "output_type": "execute_result"
    }
   ],
   "source": [
    "GCD([1, 2, 3, 100])"
   ]
  },
  {
   "cell_type": "code",
   "execution_count": 89,
   "id": "ce6badd5",
   "metadata": {
    "scrolled": true
   },
   "outputs": [
    {
     "data": {
      "text/plain": [
       "64"
      ]
     },
     "execution_count": 89,
     "metadata": {},
     "output_type": "execute_result"
    }
   ],
   "source": [
    "GCD([1024, 192, 2048, 512])"
   ]
  },
  {
   "cell_type": "markdown",
   "id": "8358e234",
   "metadata": {},
   "source": [
    "## 5. A number/string is a palindrome if the digits/characters are the same when read both forward and backward. Examples include &quot;racecar&quot; and 12321. Given a positive number n, check if n or the binary representation of n is palindromic. Return the following:"
   ]
  },
  {
   "cell_type": "markdown",
   "id": "3528ccf4",
   "metadata": {},
   "source": [
    "- 'Decimal only.' if only n is a palindrome.\n",
    "\n",
    "- 'Binary only.' if only the binary representation of n is a palindrome.\n",
    "\n",
    "- 'Decimal and binary.' if both are palindromes.\n",
    "\n",
    "- 'Neither!' if neither are palindromes.\n",
    "\n",
    "\n",
    "Examples\n",
    "\n",
    "palindrome_type(1306031) ➞ 'Decimal only.'\n",
    "\n",
    "#decimal = 1306031\n",
    "\n",
    "#binary = '100111110110110101111'\n",
    "\n",
    "palindrome_type(427787) ➞ 'Binary only.'\n",
    "\n",
    "#decimal = 427787\n",
    "\n",
    "#binary = '1101000011100001011'\n",
    "\n",
    "palindrome_type(313) ➞ 'Decimal and binary.'\n",
    "\n",
    "#decimal = 313\n",
    "\n",
    "#binary = 100111001\n",
    "\n",
    "palindrome_type(934) ➞ 'Neither!'\n",
    "\n",
    "#decimal = 934\n",
    "\n",
    "#binary = '1110100110'"
   ]
  },
  {
   "cell_type": "code",
   "execution_count": 90,
   "id": "bba4e692",
   "metadata": {},
   "outputs": [],
   "source": [
    "def palindrome_type(num):\n",
    "    \n",
    "    binary= str(bin(num).replace(\"0b\", \"\"))\n",
    "    decimal=str(num)\n",
    "    \n",
    "    flag_binary=False\n",
    "    flag_decimal=False\n",
    "    \n",
    "    rev_binary=binary[::-1]\n",
    "    rev_decimal=decimal[::-1]\n",
    "    \n",
    "    if rev_binary==binary:\n",
    "        flag_binary=True\n",
    "    if rev_decimal==decimal:\n",
    "        flag_decimal=True\n",
    "    print('Decimal = ',decimal)\n",
    "    print('Binary = ',binary)\n",
    "    \n",
    "    if flag_binary==True and flag_decimal==False:\n",
    "        return 'Binary only'\n",
    "    if flag_binary==False and flag_decimal==True:\n",
    "        return 'Decimal only'\n",
    "    if flag_binary==True and flag_decimal==True:\n",
    "        return 'Decimal and Binary'\n",
    "    if flag_binary==False and flag_decimal==False:\n",
    "        return 'Neither'"
   ]
  },
  {
   "cell_type": "code",
   "execution_count": 91,
   "id": "cb244b86",
   "metadata": {},
   "outputs": [
    {
     "name": "stdout",
     "output_type": "stream",
     "text": [
      "Decimal =  1306031\n",
      "Binary =  100111110110110101111\n"
     ]
    },
    {
     "data": {
      "text/plain": [
       "'Decimal only'"
      ]
     },
     "execution_count": 91,
     "metadata": {},
     "output_type": "execute_result"
    }
   ],
   "source": [
    "palindrome_type(1306031)"
   ]
  },
  {
   "cell_type": "code",
   "execution_count": 92,
   "id": "3d4f38cb",
   "metadata": {},
   "outputs": [
    {
     "name": "stdout",
     "output_type": "stream",
     "text": [
      "Decimal =  427787\n",
      "Binary =  1101000011100001011\n"
     ]
    },
    {
     "data": {
      "text/plain": [
       "'Binary only'"
      ]
     },
     "execution_count": 92,
     "metadata": {},
     "output_type": "execute_result"
    }
   ],
   "source": [
    "palindrome_type(427787)"
   ]
  },
  {
   "cell_type": "code",
   "execution_count": 93,
   "id": "65c7346e",
   "metadata": {},
   "outputs": [
    {
     "name": "stdout",
     "output_type": "stream",
     "text": [
      "Decimal =  313\n",
      "Binary =  100111001\n"
     ]
    },
    {
     "data": {
      "text/plain": [
       "'Decimal and Binary'"
      ]
     },
     "execution_count": 93,
     "metadata": {},
     "output_type": "execute_result"
    }
   ],
   "source": [
    "palindrome_type(313)"
   ]
  },
  {
   "cell_type": "code",
   "execution_count": 94,
   "id": "65af12c6",
   "metadata": {},
   "outputs": [
    {
     "name": "stdout",
     "output_type": "stream",
     "text": [
      "Decimal =  934\n",
      "Binary =  1110100110\n"
     ]
    },
    {
     "data": {
      "text/plain": [
       "'Neither'"
      ]
     },
     "execution_count": 94,
     "metadata": {},
     "output_type": "execute_result"
    }
   ],
   "source": [
    "palindrome_type(934)"
   ]
  },
  {
   "cell_type": "code",
   "execution_count": null,
   "id": "1f27e0fb",
   "metadata": {},
   "outputs": [],
   "source": []
  }
 ],
 "metadata": {
  "kernelspec": {
   "display_name": "Python 3",
   "language": "python",
   "name": "python3"
  },
  "language_info": {
   "codemirror_mode": {
    "name": "ipython",
    "version": 3
   },
   "file_extension": ".py",
   "mimetype": "text/x-python",
   "name": "python",
   "nbconvert_exporter": "python",
   "pygments_lexer": "ipython3",
   "version": "3.8.8"
  }
 },
 "nbformat": 4,
 "nbformat_minor": 5
}
