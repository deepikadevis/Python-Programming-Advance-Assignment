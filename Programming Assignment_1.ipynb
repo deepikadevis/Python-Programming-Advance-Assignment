{
 "cells": [
  {
   "cell_type": "markdown",
   "id": "c55d57cb",
   "metadata": {},
   "source": [
    "# Python Advanced Programming Assignment 01"
   ]
  },
  {
   "cell_type": "markdown",
   "id": "48b160dd",
   "metadata": {},
   "source": [
    "#  1. Write a function that takes a list of lists and returns the value of all of the."
   ]
  },
  {
   "cell_type": "markdown",
   "id": "a7667d18",
   "metadata": {},
   "source": [
    "symbols in it, where each symbol adds or takes something from the total\n",
    "score. Symbol values:\n",
    "\n",
    "#= 5\n",
    "\n",
    "O = 3\n",
    "\n",
    "X = 1\n",
    "\n",
    "! = -1\n",
    "\n",
    "!! = -3\n",
    "\n",
    "!!! = -5\n",
    "\n",
    "A list of lists containing 2 #s, a O, and a !!! would equal (0 + 5 + 5 + 3 - 5) 8.\n",
    "\n",
    "If the final score is negative, return 0 (e.g. 3 #s, 3 !!s, 2 !!!s and a X would be\n",
    "(0 + 5 + 5 + 5 - 3 - 3 - 3 - 5 - 5 + 1) -3, so return 0.\n",
    "\n",
    "Examples\n",
    "\n",
    "check_score([\n",
    "\n",
    "['#', '!'],\n",
    "\n",
    "['!!', 'X']\n",
    "\n",
    "]) ➞ 2\n",
    "\n",
    "check_score([\n",
    "\n",
    "['!!!', 'O', '!'],\n",
    "\n",
    "['X', '#', '!!!'],\n",
    "\n",
    "['!!', 'X', 'O']\n",
    "\n",
    "]) ➞ 0"
   ]
  },
  {
   "cell_type": "code",
   "execution_count": 1,
   "id": "109874c8",
   "metadata": {},
   "outputs": [
    {
     "name": "stdout",
     "output_type": "stream",
     "text": [
      "The Expression :  +(5)+(-1)+(-3)+(1)\n"
     ]
    },
    {
     "data": {
      "text/plain": [
       "2"
      ]
     },
     "execution_count": 1,
     "metadata": {},
     "output_type": "execute_result"
    }
   ],
   "source": [
    "def check_score(lst):\n",
    "    symbol = {'#' : 5, 'O' : 3, 'X' : 1, '!' : -1, '!!' : -3, '!!!' : -5}\n",
    "    expression = ''\n",
    "    for i in lst:\n",
    "        for j in i:\n",
    "            expression = expression + '+' + '(' + str(symbol[j]) + ')'\n",
    "    print('The Expression : ',expression )\n",
    "    if eval(expression) < 0 :\n",
    "        return 0\n",
    "    else:\n",
    "        return eval(expression)\n",
    "            \n",
    "check_score([\n",
    "['#', '!'],\n",
    "['!!', 'X']\n",
    "])"
   ]
  },
  {
   "cell_type": "code",
   "execution_count": 2,
   "id": "de88555f",
   "metadata": {},
   "outputs": [
    {
     "name": "stdout",
     "output_type": "stream",
     "text": [
      "The Expression :  +(-5)+(3)+(-1)+(1)+(5)+(-5)+(-3)+(1)+(3)\n"
     ]
    },
    {
     "data": {
      "text/plain": [
       "0"
      ]
     },
     "execution_count": 2,
     "metadata": {},
     "output_type": "execute_result"
    }
   ],
   "source": [
    "check_score([\n",
    "['!!!', 'O', '!'],\n",
    "['X', '#', '!!!'],\n",
    "['!!', 'X', 'O']\n",
    "])"
   ]
  },
  {
   "cell_type": "markdown",
   "id": "1368e0d2",
   "metadata": {},
   "source": [
    "## 2. Create a function that takes a variable number of arguments, each"
   ]
  },
  {
   "cell_type": "markdown",
   "id": "d7fc0925",
   "metadata": {},
   "source": [
    "argument representing the number of items in a group, and returns the\n",
    "number of permutations (combinations) of items that you could get by taking\n",
    "one item from each group.\n",
    "\n",
    "Examples\n",
    "\n",
    "combinations(2, 3) ➞ 6\n",
    "\n",
    "combinations(3, 7, 4) ➞ 84\n",
    "\n",
    "combinations(2, 3, 4, 5) ➞ 120\n"
   ]
  },
  {
   "cell_type": "code",
   "execution_count": 3,
   "id": "2ecb0583",
   "metadata": {},
   "outputs": [],
   "source": [
    "def combinations(*args):\n",
    "    comb = 1\n",
    "    for i in args:\n",
    "        comb = comb*i\n",
    "    return comb"
   ]
  },
  {
   "cell_type": "code",
   "execution_count": 4,
   "id": "dea087d6",
   "metadata": {},
   "outputs": [
    {
     "data": {
      "text/plain": [
       "6"
      ]
     },
     "execution_count": 4,
     "metadata": {},
     "output_type": "execute_result"
    }
   ],
   "source": [
    "combinations(2, 3)"
   ]
  },
  {
   "cell_type": "code",
   "execution_count": 5,
   "id": "7fc44dba",
   "metadata": {},
   "outputs": [
    {
     "data": {
      "text/plain": [
       "84"
      ]
     },
     "execution_count": 5,
     "metadata": {},
     "output_type": "execute_result"
    }
   ],
   "source": [
    "combinations(3, 7, 4)"
   ]
  },
  {
   "cell_type": "code",
   "execution_count": 6,
   "id": "7aaf971e",
   "metadata": {},
   "outputs": [
    {
     "data": {
      "text/plain": [
       "120"
      ]
     },
     "execution_count": 6,
     "metadata": {},
     "output_type": "execute_result"
    }
   ],
   "source": [
    "combinations(2, 3, 4, 5)"
   ]
  },
  {
   "cell_type": "markdown",
   "id": "311826e2",
   "metadata": {},
   "source": [
    "## 3. Create a function that takes a string as an argument and returns the Morse"
   ]
  },
  {
   "cell_type": "markdown",
   "id": "6917bff9",
   "metadata": {},
   "source": [
    "code equivalent.\n",
    "\n",
    "Examples\n",
    "\n",
    "encode_morse('EDABBIT CHALLENGE') ➞ '. -.. .- -... -... .. - -.-. .... .- \n",
    "\n",
    ".-.. .-..\n",
    "\n",
    ". -. --. .'\n",
    "\n",
    "encode_morse('HELP ME !') ➞ '.... . .-.. .--. -- . -.-.--'\n",
    "\n",
    "This dictionary can be used for coding:\n",
    "\n",
    "char_to_dots = {\n",
    "\n",
    "'A': '.-', 'B': '-...', 'C': '-.-.', 'D': '-..', 'E': '.', 'F': '..-.',\n",
    "\n",
    "'G': '--.', 'H': '....', 'I': '..', 'J': '.---', 'K': '-.-', 'L': '.-..',\n",
    "\n",
    "'M': '--', 'N': '-.', 'O': '---', 'P': '.--.', 'Q': '--.-', 'R': '.-.',\n",
    "\n",
    "'S': '...', 'T': '-', 'U': '..-', 'V': '...-', 'W': '.--', 'X': '-..-',\n",
    "\n",
    "'Y': '-.--', 'Z': '--..', ' ': ' ', '0': '-----',\n",
    "\n",
    "'1': '.----', '2': '..---', '3': '...--', '4': '....-', '5': '.....',\n",
    "\n",
    "'6': '-....', '7': '--...', '8': '---..', '9': '----.',\n",
    "\n",
    "'&': '.-...', \"'\": '.----.', '@': '.--.-.', ')': '-.--.-', '(': '-.--.',\n",
    "\n",
    "':': '---...', ',': '--..--', '=': '-...-', '!': '-.-.--', '.': '.-.-.-',\n",
    "\n",
    "'-': '-....-', '+': '.-.-.', \"\": '.-..-.', '?': '..--..', '/': '-..-.'\n",
    "\n",
    "}"
   ]
  },
  {
   "cell_type": "code",
   "execution_count": 7,
   "id": "9c5ddacf",
   "metadata": {},
   "outputs": [],
   "source": [
    "char_to_dots = {\n",
    "'A': '.-', 'B': '-...', 'C': '-.-.', 'D': '-..', 'E': '.', 'F': '..-.',\n",
    "'G': '--.', 'H': '....', 'I': '..', 'J': '.---', 'K': '-.-', 'L': '.-..',\n",
    "'M': '--', 'N': '-.', 'O': '---', 'P': '.--.', 'Q': '--.-', 'R': '.-.',\n",
    "'S': '...', 'T': '-', 'U': '..-', 'V': '...-', 'W': '.--', 'X': '-..-',\n",
    "'Y': '-.--', 'Z': '--..', ' ': ' ', '0': '-----',\n",
    "'1': '.----', '2': '..---', '3': '...--', '4': '....-', '5': '.....',\n",
    "'6': '-....', '7': '--...', '8': '---..', '9': '----.',\n",
    "'&': '.-...', \"'\": '.----.', '@': '.--.-.', ')': '-.--.-', '(': '-.--.',\n",
    "':': '---...', ',': '--..--', '=': '-...-', '!': '-.-.--', '.': '.-.-.-',\n",
    "'-': '-....-', '+': '.-.-.', \"\": '.-..-.', '?': '..--..', '/': '-..-.'\n",
    "}\n",
    "\n",
    "def encode_morse(str):\n",
    "    morse = []\n",
    "    for c in str:\n",
    "        print(morse)\n",
    "        morse.append(char_to_dots[c])\n",
    "    print(morse)\n",
    "        \n",
    "    return ''.join(morse)"
   ]
  },
  {
   "cell_type": "code",
   "execution_count": 8,
   "id": "9c1ece50",
   "metadata": {},
   "outputs": [
    {
     "name": "stdout",
     "output_type": "stream",
     "text": [
      "[]\n",
      "['.']\n",
      "['.', '-..']\n",
      "['.', '-..', '.-']\n",
      "['.', '-..', '.-', '-...']\n",
      "['.', '-..', '.-', '-...', '-...']\n",
      "['.', '-..', '.-', '-...', '-...', '..']\n",
      "['.', '-..', '.-', '-...', '-...', '..', '-']\n",
      "['.', '-..', '.-', '-...', '-...', '..', '-', ' ']\n",
      "['.', '-..', '.-', '-...', '-...', '..', '-', ' ', '-.-.']\n",
      "['.', '-..', '.-', '-...', '-...', '..', '-', ' ', '-.-.', '....']\n",
      "['.', '-..', '.-', '-...', '-...', '..', '-', ' ', '-.-.', '....', '.-']\n",
      "['.', '-..', '.-', '-...', '-...', '..', '-', ' ', '-.-.', '....', '.-', '.-..']\n",
      "['.', '-..', '.-', '-...', '-...', '..', '-', ' ', '-.-.', '....', '.-', '.-..', '.-..']\n",
      "['.', '-..', '.-', '-...', '-...', '..', '-', ' ', '-.-.', '....', '.-', '.-..', '.-..', '.']\n",
      "['.', '-..', '.-', '-...', '-...', '..', '-', ' ', '-.-.', '....', '.-', '.-..', '.-..', '.', '-.']\n",
      "['.', '-..', '.-', '-...', '-...', '..', '-', ' ', '-.-.', '....', '.-', '.-..', '.-..', '.', '-.', '--.']\n",
      "['.', '-..', '.-', '-...', '-...', '..', '-', ' ', '-.-.', '....', '.-', '.-..', '.-..', '.', '-.', '--.', '.']\n"
     ]
    },
    {
     "data": {
      "text/plain": [
       "'.-...--...-.....- -.-......-.-...-...-.--..'"
      ]
     },
     "execution_count": 8,
     "metadata": {},
     "output_type": "execute_result"
    }
   ],
   "source": [
    "encode_morse('EDABBIT CHALLENGE')"
   ]
  },
  {
   "cell_type": "code",
   "execution_count": 9,
   "id": "a255d327",
   "metadata": {},
   "outputs": [
    {
     "name": "stdout",
     "output_type": "stream",
     "text": [
      "[]\n",
      "['....']\n",
      "['....', '.']\n",
      "['....', '.', '.-..']\n",
      "['....', '.', '.-..', '.--.']\n",
      "['....', '.', '.-..', '.--.', ' ']\n",
      "['....', '.', '.-..', '.--.', ' ', '--']\n",
      "['....', '.', '.-..', '.--.', ' ', '--', '.']\n",
      "['....', '.', '.-..', '.--.', ' ', '--', '.', ' ']\n",
      "['....', '.', '.-..', '.--.', ' ', '--', '.', ' ', '.--.-.']\n"
     ]
    },
    {
     "data": {
      "text/plain": [
       "'......-...--. --. .--.-.'"
      ]
     },
     "execution_count": 9,
     "metadata": {},
     "output_type": "execute_result"
    }
   ],
   "source": [
    "encode_morse('HELP ME @')"
   ]
  },
  {
   "cell_type": "markdown",
   "id": "e75f3072",
   "metadata": {},
   "source": [
    "## 4. Write a function that takes a number and returns True if it's a prime; False otherwise."
   ]
  },
  {
   "cell_type": "markdown",
   "id": "16ea4001",
   "metadata": {},
   "source": [
    "The number can be 2^64-1 (2 to the power of 63, not XOR). With\n",
    "the standard technique it would be O(2^64-1), which is much too large for the\n",
    "\n",
    "10 second time limit.\n",
    "\n",
    "Examples\n",
    "\n",
    "prime(7) ➞ True\n",
    "\n",
    "prime(56963) ➞ True\n",
    "\n",
    "prime(5151512515524) ➞ False"
   ]
  },
  {
   "cell_type": "code",
   "execution_count": 10,
   "id": "1cb100fb",
   "metadata": {},
   "outputs": [],
   "source": [
    "def prime(n):\n",
    "    if (n==1):\n",
    "        return False\n",
    "    elif (n==2):\n",
    "        return True;\n",
    "    else:\n",
    "        for x in range(2,n):\n",
    "            if(n % x==0):\n",
    "                return False\n",
    "        return True "
   ]
  },
  {
   "cell_type": "code",
   "execution_count": 11,
   "id": "31d0b6a7",
   "metadata": {},
   "outputs": [
    {
     "data": {
      "text/plain": [
       "True"
      ]
     },
     "execution_count": 11,
     "metadata": {},
     "output_type": "execute_result"
    }
   ],
   "source": [
    "prime(7)"
   ]
  },
  {
   "cell_type": "code",
   "execution_count": 12,
   "id": "52362b93",
   "metadata": {},
   "outputs": [
    {
     "data": {
      "text/plain": [
       "True"
      ]
     },
     "execution_count": 12,
     "metadata": {},
     "output_type": "execute_result"
    }
   ],
   "source": [
    "prime(56963)"
   ]
  },
  {
   "cell_type": "code",
   "execution_count": 13,
   "id": "7eee7245",
   "metadata": {},
   "outputs": [
    {
     "data": {
      "text/plain": [
       "False"
      ]
     },
     "execution_count": 13,
     "metadata": {},
     "output_type": "execute_result"
    }
   ],
   "source": [
    "prime(5151512515524)"
   ]
  },
  {
   "cell_type": "markdown",
   "id": "033cd215",
   "metadata": {},
   "source": [
    "## 5. Create a function that converts a word to a bitstring and then to a boolean list based on the following criteria:"
   ]
  },
  {
   "cell_type": "markdown",
   "id": "e7106676",
   "metadata": {},
   "source": [
    "1. Locate the position of the letter in the English alphabet (from 1 to 26).\n",
    "\n",
    "2. Odd positions will be represented as 1 and 0 otherwise.\n",
    "\n",
    "3. Convert the represented positions to boolean values, 1 for True and 0\n",
    "for False.\n",
    "\n",
    "4. Store the conversions into an array.\n",
    "\n",
    "Examples\n",
    "\n",
    "to_boolean_list('deep') ➞ [False, True, True, False]\n",
    "\n",
    "#deep converts to 0110\n",
    "\n",
    "#d is the 4th alphabet - 0\n",
    "\n",
    "#e is the 5th alphabet - 1\n",
    "\n",
    "#e is the 5th alphabet - 1\n",
    "\n",
    "#p is the 16th alphabet - 0\n",
    "\n",
    "to_boolean_list('loves') ➞ [False, True, False, True, True]\n",
    "\n",
    "to_boolean_list('tesh') ➞ [False, True, True, False]"
   ]
  },
  {
   "cell_type": "code",
   "execution_count": 14,
   "id": "39bc7093",
   "metadata": {},
   "outputs": [],
   "source": [
    "def char_position(letter):\n",
    "    return (ord(letter) - 97) + 1\n",
    "\n",
    "def to_boolean_list(s):\n",
    "    lst = []\n",
    "    for i in range(len(s)):\n",
    "        if char_position(s[i]) % 2 == 0:\n",
    "            lst.append(False)\n",
    "        else:\n",
    "            lst.append(True)\n",
    "    return lst"
   ]
  },
  {
   "cell_type": "code",
   "execution_count": 15,
   "id": "94478254",
   "metadata": {},
   "outputs": [
    {
     "data": {
      "text/plain": [
       "[False, True, True, False]"
      ]
     },
     "execution_count": 15,
     "metadata": {},
     "output_type": "execute_result"
    }
   ],
   "source": [
    "to_boolean_list('deep')"
   ]
  },
  {
   "cell_type": "code",
   "execution_count": 16,
   "id": "5731d10a",
   "metadata": {},
   "outputs": [
    {
     "data": {
      "text/plain": [
       "[False, True, False, True, True]"
      ]
     },
     "execution_count": 16,
     "metadata": {},
     "output_type": "execute_result"
    }
   ],
   "source": [
    "to_boolean_list('loves')"
   ]
  },
  {
   "cell_type": "code",
   "execution_count": 17,
   "id": "99ec5696",
   "metadata": {},
   "outputs": [
    {
     "data": {
      "text/plain": [
       "[False, True, True, False]"
      ]
     },
     "execution_count": 17,
     "metadata": {},
     "output_type": "execute_result"
    }
   ],
   "source": [
    "to_boolean_list('tesh')"
   ]
  }
 ],
 "metadata": {
  "kernelspec": {
   "display_name": "Python 3",
   "language": "python",
   "name": "python3"
  },
  "language_info": {
   "codemirror_mode": {
    "name": "ipython",
    "version": 3
   },
   "file_extension": ".py",
   "mimetype": "text/x-python",
   "name": "python",
   "nbconvert_exporter": "python",
   "pygments_lexer": "ipython3",
   "version": "3.8.8"
  }
 },
 "nbformat": 4,
 "nbformat_minor": 5
}
