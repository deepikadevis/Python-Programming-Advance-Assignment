{
 "cells": [
  {
   "cell_type": "markdown",
   "id": "c55d57cb",
   "metadata": {},
   "source": [
    "# Python Advanced Programming Assignment 03"
   ]
  },
  {
   "cell_type": "markdown",
   "id": "48b160dd",
   "metadata": {},
   "source": [
    "#  1. Create a function to perform basic arithmetic operations that includes addition, subtraction, multiplication and division on a string number (e.g. &quot;12 + 24&quot; or &quot;23 - 21&quot; or &quot;12 // 12&quot; or &quot;12 * 21&quot;)."
   ]
  },
  {
   "cell_type": "markdown",
   "id": "81c339b6",
   "metadata": {},
   "source": [
    "Here, we have 1 followed by a space, operator followed by another space\n",
    "and 2. For the challenge, we are going to have only two numbers between 1\n",
    "valid operator. The return value should be a number.\n",
    "\n",
    "eval() is not allowed. In case of division, whenever the second number equals\n",
    "'0' return -1.\n",
    "\n",
    "For example:\n",
    "\n",
    "'15 // 0' ➞ -1\n",
    "\n",
    "Examples\n",
    "\n",
    "arithmetic_operation('12 + 12') ➞ 24 // 12 + 12 = 24\n",
    "\n",
    "arithmetic_operation('12 - 12') ➞ 24 // 12 - 12 = 0\n",
    "\n",
    "arithmetic_operation('12 * 12') ➞ 144 // 12 * 12 = 144\n",
    "\n",
    "arithmetic_operation('12 // 0') ➞ -1 // 12 / 0 = -1"
   ]
  },
  {
   "cell_type": "code",
   "execution_count": 38,
   "id": "2be081e4",
   "metadata": {},
   "outputs": [],
   "source": [
    "def arithmetic_operation(string):\n",
    "    l=string.split()\n",
    "    operator=l[1]\n",
    "    n1=int(l[0])\n",
    "    n2=int(l[2])\n",
    "    \n",
    "    if operator=='+':\n",
    "        if n2==0:\n",
    "            result=-1\n",
    "        else:\n",
    "            result=(n1+n2)\n",
    "\n",
    "    if operator=='-':\n",
    "        if n2==0:\n",
    "            result=-1\n",
    "        else:\n",
    "            result=(n1-n2)\n",
    "    \n",
    "    if operator=='*':\n",
    "        if n2==0:\n",
    "            result=-1\n",
    "        else:\n",
    "            result=(n1*n2)\n",
    "    \n",
    "    if operator=='//':\n",
    "        if n2==0:\n",
    "            result=-1\n",
    "        else:\n",
    "            result=(n1//n2)\n",
    "    return result"
   ]
  },
  {
   "cell_type": "code",
   "execution_count": 39,
   "id": "369a1a67",
   "metadata": {
    "scrolled": true
   },
   "outputs": [
    {
     "data": {
      "text/plain": [
       "24"
      ]
     },
     "execution_count": 39,
     "metadata": {},
     "output_type": "execute_result"
    }
   ],
   "source": [
    "arithmetic_operation('12 + 12')"
   ]
  },
  {
   "cell_type": "code",
   "execution_count": 41,
   "id": "c8f3b6f7",
   "metadata": {},
   "outputs": [
    {
     "data": {
      "text/plain": [
       "0"
      ]
     },
     "execution_count": 41,
     "metadata": {},
     "output_type": "execute_result"
    }
   ],
   "source": [
    "arithmetic_operation('12 - 12')"
   ]
  },
  {
   "cell_type": "code",
   "execution_count": 42,
   "id": "bf91f8ad",
   "metadata": {},
   "outputs": [
    {
     "data": {
      "text/plain": [
       "144"
      ]
     },
     "execution_count": 42,
     "metadata": {},
     "output_type": "execute_result"
    }
   ],
   "source": [
    "arithmetic_operation('12 * 12')"
   ]
  },
  {
   "cell_type": "code",
   "execution_count": 43,
   "id": "0dbe6300",
   "metadata": {},
   "outputs": [
    {
     "data": {
      "text/plain": [
       "-1"
      ]
     },
     "execution_count": 43,
     "metadata": {},
     "output_type": "execute_result"
    }
   ],
   "source": [
    "arithmetic_operation('12 // 0')"
   ]
  },
  {
   "cell_type": "code",
   "execution_count": 44,
   "id": "5e5a5bc4",
   "metadata": {},
   "outputs": [
    {
     "data": {
      "text/plain": [
       "1"
      ]
     },
     "execution_count": 44,
     "metadata": {},
     "output_type": "execute_result"
    }
   ],
   "source": [
    "arithmetic_operation('12 // 12')"
   ]
  },
  {
   "cell_type": "code",
   "execution_count": 45,
   "id": "2fede30d",
   "metadata": {},
   "outputs": [
    {
     "data": {
      "text/plain": [
       "-1"
      ]
     },
     "execution_count": 45,
     "metadata": {},
     "output_type": "execute_result"
    }
   ],
   "source": [
    "arithmetic_operation('12 // 0')"
   ]
  },
  {
   "cell_type": "code",
   "execution_count": 46,
   "id": "babf0308",
   "metadata": {},
   "outputs": [
    {
     "data": {
      "text/plain": [
       "-1"
      ]
     },
     "execution_count": 46,
     "metadata": {},
     "output_type": "execute_result"
    }
   ],
   "source": [
    "arithmetic_operation('0 // 0')"
   ]
  },
  {
   "cell_type": "code",
   "execution_count": 47,
   "id": "d96d2a76",
   "metadata": {},
   "outputs": [
    {
     "data": {
      "text/plain": [
       "0"
      ]
     },
     "execution_count": 47,
     "metadata": {},
     "output_type": "execute_result"
    }
   ],
   "source": [
    "arithmetic_operation('0 // 4')"
   ]
  },
  {
   "cell_type": "markdown",
   "id": "1368e0d2",
   "metadata": {},
   "source": [
    "## 2. Write a function that takes the coordinates of three points in the form of a 2d array and returns the perimeter of the triangle. The given points are the vertices of a triangle on a two-dimensional plane."
   ]
  },
  {
   "cell_type": "markdown",
   "id": "803cde45",
   "metadata": {},
   "source": [
    "Examples\n",
    "\n",
    "perimeter( [ [15, 7], [5, 22], [11, 1] ] ) ➞ 47.08\n",
    "\n",
    "perimeter( [ [0, 0], [0, 1], [1, 0] ] ) ➞ 3.42\n",
    "\n",
    "perimeter( [ [-10, -10], [10, 10 ], [-10, 10] ] ) ➞ 68.28\n"
   ]
  },
  {
   "cell_type": "code",
   "execution_count": 48,
   "id": "a677ab97",
   "metadata": {},
   "outputs": [],
   "source": [
    "def perimeter(dots):\n",
    "    flat = []\n",
    "    for i in dots: \n",
    "        for j in i:  #flating the vectors\n",
    "            flat.append(j)\n",
    "    x1,y1,x2,y2,x3,y3 = flat #assigning each dot on the 2d plane\n",
    "    #calculating each length of the triangle\n",
    "    fst = ((x2 - x1)**2   +    (y1-y2)**2 )**0.5 #1st length\n",
    "    snd = ((x3-x2)**2     +    (y3-y2)**2)**0.5 #2nd length\n",
    "    trd = ((x3-x1)**2     +    (y3-y1)**2)**0.5 # 3rd length\n",
    "    return round(fst+snd+trd, ndigits=2) #perimeter is sum of all three side length"
   ]
  },
  {
   "cell_type": "code",
   "execution_count": 49,
   "id": "2da76620",
   "metadata": {},
   "outputs": [
    {
     "data": {
      "text/plain": [
       "47.08"
      ]
     },
     "execution_count": 49,
     "metadata": {},
     "output_type": "execute_result"
    }
   ],
   "source": [
    "perimeter( [ [15, 7], [5, 22], [11, 1] ] ) "
   ]
  },
  {
   "cell_type": "code",
   "execution_count": 50,
   "id": "46451e03",
   "metadata": {},
   "outputs": [
    {
     "data": {
      "text/plain": [
       "3.41"
      ]
     },
     "execution_count": 50,
     "metadata": {},
     "output_type": "execute_result"
    }
   ],
   "source": [
    "perimeter( [ [0, 0], [0, 1], [1, 0] ] )"
   ]
  },
  {
   "cell_type": "code",
   "execution_count": 51,
   "id": "ed9202a9",
   "metadata": {},
   "outputs": [
    {
     "data": {
      "text/plain": [
       "68.28"
      ]
     },
     "execution_count": 51,
     "metadata": {},
     "output_type": "execute_result"
    }
   ],
   "source": [
    "perimeter( [ [-10, -10], [10, 10 ], [-10, 10] ] )"
   ]
  },
  {
   "cell_type": "markdown",
   "id": "be6d5df7",
   "metadata": {},
   "source": [
    "## 3. A city skyline can be represented as a 2-D list with 1s representing buildings. In the example below, the height of the tallest building is 4 (second- most right column)."
   ]
  },
  {
   "cell_type": "markdown",
   "id": "3f57d8cd",
   "metadata": {},
   "source": [
    "[[0, 0, 0, 0, 0, 0],\n",
    "\n",
    "[0, 0, 0, 0, 1, 0],\n",
    "\n",
    "[0, 0, 1, 0, 1, 0],\n",
    "\n",
    "[0, 1, 1, 1, 1, 0],\n",
    "\n",
    "[1, 1, 1, 1, 1, 1]]\n",
    "\n",
    "Create a function that takes a skyline (2-D list of 0's and 1's) and returns the\n",
    "height of the tallest skyscraper.\n",
    "\n",
    "Examples\n",
    "\n",
    "tallest_skyscraper([\n",
    "\n",
    "[0, 0, 0, 0],\n",
    "\n",
    "[0, 1, 0, 0],\n",
    "\n",
    "[0, 1, 1, 0],\n",
    "\n",
    "[1, 1, 1, 1]\n",
    "\n",
    "]) ➞ 3\n",
    "\n",
    "tallest_skyscraper([\n",
    "\n",
    "[0, 1, 0, 0],\n",
    "\n",
    "[0, 1, 0, 0],\n",
    "\n",
    "[0, 1, 1, 0],\n",
    "\n",
    "[1, 1, 1, 1]\n",
    "\n",
    "]) ➞ 4\n",
    "\n",
    "tallest_skyscraper([\n",
    "\n",
    "[0, 0, 0, 0],\n",
    "\n",
    "[0, 0, 0, 0],\n",
    "\n",
    "[1, 1, 1, 0],\n",
    "\n",
    "[1, 1, 1, 1]\n",
    "\n",
    "]) ➞ 2\n"
   ]
  },
  {
   "cell_type": "code",
   "execution_count": 52,
   "id": "e0bd9d34",
   "metadata": {},
   "outputs": [],
   "source": [
    "def tallest_skyscraper(array):\n",
    "    list_of_height = []\n",
    "    sum = 0\n",
    "    for i in range(len(array[0])):\n",
    "        for j in range(len(array)):\n",
    "            sum = sum + array[j][i]\n",
    "        list_of_height.append(sum)\n",
    "        sum = 0\n",
    "    return \"The hieght of tallest building is : \", max(list_of_height)"
   ]
  },
  {
   "cell_type": "code",
   "execution_count": 53,
   "id": "99b71d5c",
   "metadata": {},
   "outputs": [
    {
     "data": {
      "text/plain": [
       "('The hieght of tallest building is : ', 3)"
      ]
     },
     "execution_count": 53,
     "metadata": {},
     "output_type": "execute_result"
    }
   ],
   "source": [
    "tallest_skyscraper([\n",
    "[0, 0, 0, 0],\n",
    "[0, 1, 0, 0],\n",
    "[0, 1, 1, 0],\n",
    "[1, 1, 1, 1]\n",
    "])"
   ]
  },
  {
   "cell_type": "code",
   "execution_count": 54,
   "id": "3398c610",
   "metadata": {},
   "outputs": [
    {
     "data": {
      "text/plain": [
       "('The hieght of tallest building is : ', 4)"
      ]
     },
     "execution_count": 54,
     "metadata": {},
     "output_type": "execute_result"
    }
   ],
   "source": [
    "tallest_skyscraper([\n",
    "[0, 1, 0, 0],\n",
    "[0, 1, 0, 0],\n",
    "[0, 1, 1, 0],\n",
    "[1, 1, 1, 1]\n",
    "]) "
   ]
  },
  {
   "cell_type": "code",
   "execution_count": 55,
   "id": "7e2438f7",
   "metadata": {},
   "outputs": [
    {
     "data": {
      "text/plain": [
       "('The hieght of tallest building is : ', 2)"
      ]
     },
     "execution_count": 55,
     "metadata": {},
     "output_type": "execute_result"
    }
   ],
   "source": [
    "tallest_skyscraper([\n",
    "[0, 0, 0, 0],\n",
    "[0, 0, 0, 0],\n",
    "[1, 1, 1, 0],\n",
    "[1, 1, 1, 1]\n",
    "])"
   ]
  },
  {
   "cell_type": "markdown",
   "id": "3ae15c02",
   "metadata": {},
   "source": [
    "## 4. A financial institution provides professional services to banks and claims charges from the customers based on the number of man-days provided. Internally, it has set a scheme to motivate and reward staff to meet and exceed targeted billable utilization and revenues by paying a bonus for each day claimed from customers in excess of a threshold target."
   ]
  },
  {
   "cell_type": "markdown",
   "id": "f84f3af6",
   "metadata": {},
   "source": [
    "This quarterly scheme is calculated with a threshold target of 32 days per\n",
    "quarter, and the incentive payment for each billable day in excess of such\n",
    "threshold target is shown as follows:\n",
    "\n",
    "Days Bonus\n",
    "\n",
    "0 to 32 days Zero\n",
    "\n",
    "33 to 40 days SGD$325 per billable day\n",
    "\n",
    "41 to 48 days SGD$550 per billable day\n",
    "\n",
    "Greater than 48 days SGD$600 per billable day\n",
    "\n",
    "Please note that incentive payment is calculated progressively. As an\n",
    "example, if an employee reached total billable days of 45 in a quarter, his/her\n",
    "incentive payment is computed as follows:\n",
    "\n",
    "32*0 + 8*325 + 5*550 = 5350\n",
    "\n",
    "Write a function to read the billable days of an employee and return the bonus\n",
    "he/she has obtained in that quarter.\n",
    "\n",
    "Examples\n",
    "\n",
    "bonus(15) ➞ 0\n",
    "\n",
    "bonus(37) ➞ 1625\n",
    "\n",
    "bonus(50) ➞ 8200\n"
   ]
  },
  {
   "cell_type": "code",
   "execution_count": 56,
   "id": "8f637581",
   "metadata": {},
   "outputs": [],
   "source": [
    "def bonus(day):  # creating the function\n",
    "    bonus = 0 # initial bonus is 0 \n",
    "    if day >32: # if day is greater than 32 then it will start calculation , otherwise return 0\n",
    "        if day>48: # check for day is greater than 48, the heighst quarter\n",
    "            day = day - 32 # 32 day will remove as there is no bonus for first 32 days\n",
    "            bonus = (8*325) + (8*550) + ((day-16)*600) # then bonus is calculate for rest of the days\n",
    "        elif day<=48 and day>41: # calculation for 2nd quarter\n",
    "            day = day -32\n",
    "            bonus = (8*325) + ((day-8)*550)\n",
    "        elif day<=41 and day>32:   # calculation for first quarter\n",
    "            day = day - 32\n",
    "            bonus = day*325\n",
    "    return bonus # returning the bonus"
   ]
  },
  {
   "cell_type": "code",
   "execution_count": 57,
   "id": "827e9b56",
   "metadata": {},
   "outputs": [
    {
     "data": {
      "text/plain": [
       "0"
      ]
     },
     "execution_count": 57,
     "metadata": {},
     "output_type": "execute_result"
    }
   ],
   "source": [
    "bonus(15)"
   ]
  },
  {
   "cell_type": "code",
   "execution_count": 58,
   "id": "e72891ef",
   "metadata": {},
   "outputs": [
    {
     "data": {
      "text/plain": [
       "1625"
      ]
     },
     "execution_count": 58,
     "metadata": {},
     "output_type": "execute_result"
    }
   ],
   "source": [
    "bonus(37)"
   ]
  },
  {
   "cell_type": "code",
   "execution_count": 59,
   "id": "76e33028",
   "metadata": {},
   "outputs": [
    {
     "data": {
      "text/plain": [
       "8200"
      ]
     },
     "execution_count": 59,
     "metadata": {},
     "output_type": "execute_result"
    }
   ],
   "source": [
    "bonus(50)"
   ]
  },
  {
   "cell_type": "code",
   "execution_count": 60,
   "id": "f0692853",
   "metadata": {},
   "outputs": [
    {
     "data": {
      "text/plain": [
       "5350"
      ]
     },
     "execution_count": 60,
     "metadata": {},
     "output_type": "execute_result"
    }
   ],
   "source": [
    "bonus(45)"
   ]
  },
  {
   "cell_type": "markdown",
   "id": "af36d85d",
   "metadata": {},
   "source": [
    "## 5. A number is said to be Disarium if the sum of its digits raised to their respective positions is the number itself."
   ]
  },
  {
   "cell_type": "markdown",
   "id": "53386e5c",
   "metadata": {},
   "source": [
    "Create a function that determines whether a number is a Disarium or not.\n",
    "\n",
    "Examples\n",
    "\n",
    "is_disarium(75) ➞ False\n",
    "\n",
    "#7^1 + 5^2 = 7 + 25 = 32\n",
    "\n",
    "is_disarium(135) ➞ True\n",
    "\n",
    "#1^1 + 3^2 + 5^3 = 1 + 9 + 125 = 135\n",
    "\n",
    "is_disarium(544) ➞ False\n",
    "\n",
    "is_disarium(518) ➞ True\n",
    "\n",
    "is_disarium(466) ➞ False\n",
    "\n",
    "is_disarium(8) ➞ True\n"
   ]
  },
  {
   "cell_type": "code",
   "execution_count": 61,
   "id": "46cf1b1c",
   "metadata": {},
   "outputs": [],
   "source": [
    "def is_disarium(num):\n",
    "    sum = 0\n",
    "    tempNum = num\n",
    "    while(num>0):\n",
    "        dgcnt= len(str(num))\n",
    "        digit = num%10\n",
    "        sum= sum + digit**dgcnt   \n",
    "        dgcnt-=1\n",
    "        num = num//10    \n",
    "    if sum == tempNum:\n",
    "        return tempNum,\"Number is Disarium\"\n",
    "    else:\n",
    "        return tempNum,\"Number is not Disarium\""
   ]
  },
  {
   "cell_type": "code",
   "execution_count": 62,
   "id": "4235d46f",
   "metadata": {},
   "outputs": [
    {
     "data": {
      "text/plain": [
       "(544, 'Number is not Disarium')"
      ]
     },
     "execution_count": 62,
     "metadata": {},
     "output_type": "execute_result"
    }
   ],
   "source": [
    "is_disarium(544)"
   ]
  },
  {
   "cell_type": "code",
   "execution_count": 63,
   "id": "23495f7e",
   "metadata": {},
   "outputs": [
    {
     "data": {
      "text/plain": [
       "(518, 'Number is Disarium')"
      ]
     },
     "execution_count": 63,
     "metadata": {},
     "output_type": "execute_result"
    }
   ],
   "source": [
    "is_disarium(518)"
   ]
  },
  {
   "cell_type": "code",
   "execution_count": 64,
   "id": "6d0e2b3f",
   "metadata": {},
   "outputs": [
    {
     "data": {
      "text/plain": [
       "(466, 'Number is not Disarium')"
      ]
     },
     "execution_count": 64,
     "metadata": {},
     "output_type": "execute_result"
    }
   ],
   "source": [
    "is_disarium(466)"
   ]
  },
  {
   "cell_type": "code",
   "execution_count": 65,
   "id": "466beb08",
   "metadata": {},
   "outputs": [
    {
     "data": {
      "text/plain": [
       "(8, 'Number is Disarium')"
      ]
     },
     "execution_count": 65,
     "metadata": {},
     "output_type": "execute_result"
    }
   ],
   "source": [
    "is_disarium(8)"
   ]
  },
  {
   "cell_type": "code",
   "execution_count": null,
   "id": "00e504cb",
   "metadata": {},
   "outputs": [],
   "source": []
  }
 ],
 "metadata": {
  "kernelspec": {
   "display_name": "Python 3",
   "language": "python",
   "name": "python3"
  },
  "language_info": {
   "codemirror_mode": {
    "name": "ipython",
    "version": 3
   },
   "file_extension": ".py",
   "mimetype": "text/x-python",
   "name": "python",
   "nbconvert_exporter": "python",
   "pygments_lexer": "ipython3",
   "version": "3.8.8"
  }
 },
 "nbformat": 4,
 "nbformat_minor": 5
}
