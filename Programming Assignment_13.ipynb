{
 "cells": [
  {
   "cell_type": "markdown",
   "id": "28f3f279",
   "metadata": {},
   "source": [
    "# Python Advanced Programming_13"
   ]
  },
  {
   "cell_type": "markdown",
   "id": "3ddc349e",
   "metadata": {},
   "source": [
    "## Question 1"
   ]
  },
  {
   "cell_type": "markdown",
   "id": "68cb093a",
   "metadata": {},
   "source": [
    "1. Create a function that takes a list and string. The function should remove the letters in the string from the list, and return the list.\n",
    "\n",
    "Examples\n",
    "\n",
    "remove_letters([\"s\", \"t\", \"r\", \"i\", \"n\", \"g\", \"w\"], \"string\") ➞ [\"w\"]\n",
    "\n",
    "remove_letters([\"b\", \"b\", \"l\", \"l\", \"g\", \"n\", \"o\", \"a\", \"w\"], \"balloon\") ➞ [\"b\", \"g\", \"w\"]\n",
    "\n",
    "remove_letters([\"d\", \"b\", \"t\", \"e\", \"a\", \"i\"], \"edabit\") ➞ []"
   ]
  },
  {
   "cell_type": "code",
   "execution_count": 40,
   "id": "46cb9e8a",
   "metadata": {},
   "outputs": [],
   "source": [
    "def remove_letters (l,w):\n",
    "    n=[]\n",
    "    for i in w:\n",
    "        n.append(i)\n",
    "    for item in n:\n",
    "        if item in l:\n",
    "            l.remove(item)\n",
    "    return l"
   ]
  },
  {
   "cell_type": "code",
   "execution_count": 41,
   "id": "0f67a87e",
   "metadata": {},
   "outputs": [
    {
     "data": {
      "text/plain": [
       "['w']"
      ]
     },
     "execution_count": 41,
     "metadata": {},
     "output_type": "execute_result"
    }
   ],
   "source": [
    "remove_letters([\"s\", \"t\", \"r\", \"i\", \"n\", \"g\", \"w\"], \"string\")"
   ]
  },
  {
   "cell_type": "code",
   "execution_count": 42,
   "id": "e084f169",
   "metadata": {},
   "outputs": [
    {
     "data": {
      "text/plain": [
       "['b', 'g', 'w']"
      ]
     },
     "execution_count": 42,
     "metadata": {},
     "output_type": "execute_result"
    }
   ],
   "source": [
    "remove_letters([\"b\", \"b\", \"l\", \"l\", \"g\", \"n\", \"o\", \"a\", \"w\"], \"balloon\")"
   ]
  },
  {
   "cell_type": "code",
   "execution_count": 43,
   "id": "a1464efc",
   "metadata": {},
   "outputs": [
    {
     "data": {
      "text/plain": [
       "[]"
      ]
     },
     "execution_count": 43,
     "metadata": {},
     "output_type": "execute_result"
    }
   ],
   "source": [
    "remove_letters([\"d\", \"b\", \"t\", \"e\", \"a\", \"i\"], \"edabit\")"
   ]
  },
  {
   "cell_type": "markdown",
   "id": "b19e4801",
   "metadata": {},
   "source": [
    "## Question 2"
   ]
  },
  {
   "cell_type": "markdown",
   "id": "b9b7fa75",
   "metadata": {},
   "source": [
    "2. A block sequence in three dimensions. We can write a formula for this one: Create a function that takes a number (step) as an argument and returns the amount of blocks in that step.\n",
    "\n",
    "Examples\n",
    "\n",
    "blocks(1) ➞ 5\n",
    "\n",
    "blocks(5) ➞ 39\n",
    "\n",
    "blocks(2) ➞ 12"
   ]
  },
  {
   "cell_type": "code",
   "execution_count": 44,
   "id": "12937db5",
   "metadata": {},
   "outputs": [],
   "source": [
    "def blocks(l):\n",
    "    a=5\n",
    "    b=7\n",
    "    if(l==1):\n",
    "        return a\n",
    "    else:\n",
    "        for i in range (1,l):\n",
    "            a=a+b\n",
    "            b=b+1\n",
    "        return a"
   ]
  },
  {
   "cell_type": "code",
   "execution_count": 45,
   "id": "88eacd33",
   "metadata": {},
   "outputs": [
    {
     "data": {
      "text/plain": [
       "39"
      ]
     },
     "execution_count": 45,
     "metadata": {},
     "output_type": "execute_result"
    }
   ],
   "source": [
    "blocks(5)"
   ]
  },
  {
   "cell_type": "code",
   "execution_count": 46,
   "id": "9a18d9b1",
   "metadata": {},
   "outputs": [
    {
     "data": {
      "text/plain": [
       "5"
      ]
     },
     "execution_count": 46,
     "metadata": {},
     "output_type": "execute_result"
    }
   ],
   "source": [
    "blocks(1)"
   ]
  },
  {
   "cell_type": "code",
   "execution_count": 47,
   "id": "96256a49",
   "metadata": {},
   "outputs": [
    {
     "data": {
      "text/plain": [
       "12"
      ]
     },
     "execution_count": 47,
     "metadata": {},
     "output_type": "execute_result"
    }
   ],
   "source": [
    "blocks(2)"
   ]
  },
  {
   "cell_type": "markdown",
   "id": "17edd0a9",
   "metadata": {},
   "source": [
    "## Question 3"
   ]
  },
  {
   "cell_type": "markdown",
   "id": "20f254d2",
   "metadata": {},
   "source": [
    "3. Create a function that subtracts one positive integer from another, without using any arithmetic operators such as -, %, /, +, etc.\n",
    "\n",
    "Examples\n",
    "\n",
    "my_sub(5, 9) ➞ 4\n",
    "\n",
    "my_sub(10, 30) ➞ 20\n",
    "\n",
    "my_sub(0, 0) ➞ 0"
   ]
  },
  {
   "cell_type": "code",
   "execution_count": 48,
   "id": "6f072b69",
   "metadata": {},
   "outputs": [],
   "source": [
    "def my_sub(a,b):\n",
    "    n=[1 for i in range(a)]\n",
    "    m=[1 for i in range(b)]\n",
    "    for item in n:\n",
    "        if item in m:\n",
    "            m.remove(item)\n",
    "    return sum(m)"
   ]
  },
  {
   "cell_type": "code",
   "execution_count": 49,
   "id": "843a5ea0",
   "metadata": {},
   "outputs": [
    {
     "data": {
      "text/plain": [
       "4"
      ]
     },
     "execution_count": 49,
     "metadata": {},
     "output_type": "execute_result"
    }
   ],
   "source": [
    "my_sub(5, 9)"
   ]
  },
  {
   "cell_type": "code",
   "execution_count": 50,
   "id": "e2a6be86",
   "metadata": {},
   "outputs": [
    {
     "data": {
      "text/plain": [
       "20"
      ]
     },
     "execution_count": 50,
     "metadata": {},
     "output_type": "execute_result"
    }
   ],
   "source": [
    "my_sub(10, 30)"
   ]
  },
  {
   "cell_type": "code",
   "execution_count": 51,
   "id": "2e0797bb",
   "metadata": {},
   "outputs": [
    {
     "data": {
      "text/plain": [
       "0"
      ]
     },
     "execution_count": 51,
     "metadata": {},
     "output_type": "execute_result"
    }
   ],
   "source": [
    "my_sub(0, 0)"
   ]
  },
  {
   "cell_type": "markdown",
   "id": "fb145d96",
   "metadata": {},
   "source": [
    "## Question 4"
   ]
  },
  {
   "cell_type": "markdown",
   "id": "d05c4d3c",
   "metadata": {},
   "source": [
    "4. Create a function that takes a string containing money in dollars and pounds sterling (seperated by comma) and returns the sum of dollar bills only, as an integer.\n",
    "\n",
    "For the input string:\n",
    "\n",
    "   - Each amount is prefixed by the currency symbol: $ for dollars and £ for pounds.\n",
    "   \n",
    "   - Thousands are represented by the suffix k.\n",
    "\n",
    "i.e. $4k = $4,000 and £40k = £40,000\n",
    "\n",
    "Examples\n",
    "\n",
    "add_bill(\"d20,p40,p60,d50\") ➞ 20 + 50 = 70\n",
    "\n",
    "add_bill(\"p30,d20,p60,d150,p360\") ➞ 20  + 150 = 170\n",
    "\n",
    "add_bill(\"p30,d2k,p60,d200,p360\") ➞ 2 * 1000 + 200 = 2200"
   ]
  },
  {
   "cell_type": "code",
   "execution_count": 52,
   "id": "7ab8a782",
   "metadata": {},
   "outputs": [],
   "source": [
    "def add_bill(r):\n",
    "    n=[]\n",
    "    l =list(r.split(\",\"))\n",
    "    l=[i for i in l if i[0] == 'd']\n",
    "    l=[i[1:] for i in l if i[0] == 'd']\n",
    "    for i in l:\n",
    "        if \"k\" in i:\n",
    "            i = i[:-1]\n",
    "            i= int(i)*1000\n",
    "            n.append(i)\n",
    "        else:\n",
    "            n.append(int(i))\n",
    "    return sum(n)\n",
    "    "
   ]
  },
  {
   "cell_type": "code",
   "execution_count": 53,
   "id": "a5b209ee",
   "metadata": {},
   "outputs": [
    {
     "data": {
      "text/plain": [
       "2200"
      ]
     },
     "execution_count": 53,
     "metadata": {},
     "output_type": "execute_result"
    }
   ],
   "source": [
    "add_bill(\"p30,d2k,p60,d200,p360\")"
   ]
  },
  {
   "cell_type": "code",
   "execution_count": 54,
   "id": "9bb1c701",
   "metadata": {},
   "outputs": [
    {
     "data": {
      "text/plain": [
       "70"
      ]
     },
     "execution_count": 54,
     "metadata": {},
     "output_type": "execute_result"
    }
   ],
   "source": [
    "add_bill(\"d20,p40,p60,d50\")"
   ]
  },
  {
   "cell_type": "code",
   "execution_count": 55,
   "id": "7f7f2742",
   "metadata": {},
   "outputs": [
    {
     "data": {
      "text/plain": [
       "170"
      ]
     },
     "execution_count": 55,
     "metadata": {},
     "output_type": "execute_result"
    }
   ],
   "source": [
    "add_bill(\"p30,d20,p60,d150,p360\")"
   ]
  },
  {
   "cell_type": "markdown",
   "id": "a6001156",
   "metadata": {},
   "source": [
    "## Question 5"
   ]
  },
  {
   "cell_type": "markdown",
   "id": "870783a8",
   "metadata": {},
   "source": [
    "5. Create a function that flips a horizontal list into a vertical list, and a vertical list into a horizontal list.\n",
    "\n",
    "In other words, take an 1 x n list (1 row + n columns) and flip it into a n x 1 list (n rows and 1 column), and vice versa.\n",
    "\n",
    "Examples\n",
    "\n",
    "flip_list([1, 2, 3, 4]) ➞ [[1], [2], [3], [4]]\n",
    "\n",
    " Take a horizontal list and flip it vertical.\n",
    "\n",
    "flip_list([[5], [6], [9]]) ➞ [5, 6, 9]\n",
    "\n",
    " Take a vertical list and flip it horizontal.\n",
    "\n",
    "flip_list([]) ➞ []"
   ]
  },
  {
   "cell_type": "code",
   "execution_count": 56,
   "id": "43ae12b3",
   "metadata": {},
   "outputs": [],
   "source": [
    "def flip_list(l):\n",
    "    y = []\n",
    "    for i in l:\n",
    "        if type(i)!= list:\n",
    "            listA = [str(i)]\n",
    "            for elem in listA:\n",
    "               t = elem.split(', ')\n",
    "               y.append((t))\n",
    "        else:\n",
    "            y.append(i[0])\n",
    "    return y"
   ]
  },
  {
   "cell_type": "code",
   "execution_count": 57,
   "id": "87e65412",
   "metadata": {},
   "outputs": [
    {
     "data": {
      "text/plain": [
       "[['1'], ['2'], ['3'], ['4']]"
      ]
     },
     "execution_count": 57,
     "metadata": {},
     "output_type": "execute_result"
    }
   ],
   "source": [
    "flip_list([1, 2, 3, 4])"
   ]
  },
  {
   "cell_type": "code",
   "execution_count": 58,
   "id": "8ace47f8",
   "metadata": {},
   "outputs": [
    {
     "data": {
      "text/plain": [
       "[5, 6, 9]"
      ]
     },
     "execution_count": 58,
     "metadata": {},
     "output_type": "execute_result"
    }
   ],
   "source": [
    "flip_list([[5], [6], [9]])"
   ]
  },
  {
   "cell_type": "code",
   "execution_count": 59,
   "id": "4536ee06",
   "metadata": {},
   "outputs": [
    {
     "data": {
      "text/plain": [
       "[]"
      ]
     },
     "execution_count": 59,
     "metadata": {},
     "output_type": "execute_result"
    }
   ],
   "source": [
    "flip_list([])"
   ]
  },
  {
   "cell_type": "code",
   "execution_count": null,
   "id": "de5396b1",
   "metadata": {},
   "outputs": [],
   "source": []
  }
 ],
 "metadata": {
  "kernelspec": {
   "display_name": "Python 3",
   "language": "python",
   "name": "python3"
  },
  "language_info": {
   "codemirror_mode": {
    "name": "ipython",
    "version": 3
   },
   "file_extension": ".py",
   "mimetype": "text/x-python",
   "name": "python",
   "nbconvert_exporter": "python",
   "pygments_lexer": "ipython3",
   "version": "3.8.8"
  }
 },
 "nbformat": 4,
 "nbformat_minor": 5
}
