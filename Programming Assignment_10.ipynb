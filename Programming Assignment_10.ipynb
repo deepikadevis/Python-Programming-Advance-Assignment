{
 "cells": [
  {
   "cell_type": "markdown",
   "id": "c55d57cb",
   "metadata": {},
   "source": [
    "# Python Advanced Programming Assignment 10"
   ]
  },
  {
   "cell_type": "markdown",
   "id": "48b160dd",
   "metadata": {},
   "source": [
    "#  1. Create a function that takes the width, height and character and returns a picture frame as a 2D list."
   ]
  },
  {
   "cell_type": "markdown",
   "id": "7609230c",
   "metadata": {},
   "source": [
    "Examples\n",
    "\n",
    "get_frame(4, 5, '#') ➞ [\n",
    "\n",
    "['####'],\n",
    "\n",
    "['# #'],\n",
    "\n",
    "['# #'],\n",
    "\n",
    "['# #'],\n",
    "\n",
    "['####']\n",
    "\n",
    "]\n",
    "\n",
    "#Frame is 4 characters wide and 5 characters tall.\n",
    "\n",
    "get_frame(10, 3, '*') ➞ [\n",
    "\n",
    "['**********'],\n",
    "\n",
    "['* *'],\n",
    "\n",
    "['**********']\n",
    "\n",
    "]\n",
    "\n",
    "#Frame is 10 characters and wide and 3 characters tall.\n",
    "\n",
    "get_frame(2, 5, '0') ➞ 'invalid'\n",
    "\n",
    "#Frame's width is not more than 2."
   ]
  },
  {
   "cell_type": "code",
   "execution_count": 115,
   "id": "91e738aa",
   "metadata": {},
   "outputs": [
    {
     "name": "stdout",
     "output_type": "stream",
     "text": [
      "['####']\n",
      "['#  #']\n",
      "['#  #']\n",
      "['#  #']\n",
      "['####']\n"
     ]
    }
   ],
   "source": [
    "def get_frame(m, n,sign) :\n",
    "    row = []\n",
    "    frame = []\n",
    "    boxStr = '' \n",
    "    if m <= 2 or n <= 2:\n",
    "        return \"invalid\"\n",
    "    for i in range(1, n+1) :\n",
    "        boxStr = ''\n",
    "        row = []\n",
    "        for j in range(1, m+1) :\n",
    "            if (i == 1 or i == n or\n",
    "                j == 1 or j == m) :\n",
    "                boxStr = boxStr + sign\n",
    "            else :\n",
    "                boxStr = boxStr + ' '\n",
    "        row.append(boxStr)\n",
    "        frame.append(row)\n",
    "    for i in frame:\n",
    "        print(i)\n",
    "    #return frame\n",
    "        \n",
    " \n",
    " \n",
    "get_frame(4, 5, '#')"
   ]
  },
  {
   "cell_type": "code",
   "execution_count": 116,
   "id": "d3395e89",
   "metadata": {
    "scrolled": true
   },
   "outputs": [
    {
     "name": "stdout",
     "output_type": "stream",
     "text": [
      "['**********']\n",
      "['*        *']\n",
      "['**********']\n"
     ]
    }
   ],
   "source": [
    "get_frame(10, 3, '*')"
   ]
  },
  {
   "cell_type": "code",
   "execution_count": 117,
   "id": "afdb415f",
   "metadata": {},
   "outputs": [
    {
     "data": {
      "text/plain": [
       "'invalid'"
      ]
     },
     "execution_count": 117,
     "metadata": {},
     "output_type": "execute_result"
    }
   ],
   "source": [
    "get_frame(2, 5, '0')"
   ]
  },
  {
   "cell_type": "markdown",
   "id": "1368e0d2",
   "metadata": {},
   "source": [
    "## 2. Write three functions:"
   ]
  },
  {
   "cell_type": "markdown",
   "id": "4dccaa20",
   "metadata": {},
   "source": [
    "1. boolean_and\n",
    "\n",
    "2. boolean_or\n",
    "\n",
    "3. boolean_xor\n",
    "\n",
    "These functions should evaluate a list of True and False values, starting from\n",
    "the leftmost element and evaluating pairwise.\n",
    "\n",
    "Examples\n",
    "\n",
    "boolean_and([True, True, False, True]) ➞ False\n",
    "\n",
    "#[True, True, False, True] => [True, False, True] => [False, True] => False\n",
    "\n",
    "boolean_or([True, True, False, False]) ➞ True\n",
    "\n",
    "#[True, True, False, True] => [True, False, False] => [True, False] => True\n",
    "\n",
    "boolean_xor([True, True, False, False]) ➞ False\n",
    "\n",
    "#[True, True, False, False] => [False, False, False] => [False, False] =>\n",
    "False"
   ]
  },
  {
   "cell_type": "code",
   "execution_count": 118,
   "id": "6426d2f9",
   "metadata": {},
   "outputs": [],
   "source": [
    "from functools import reduce\n",
    "\n",
    "def boolean_and(items):\n",
    "    status = reduce(lambda a,b: True if (a & b) else False, items)\n",
    "    return status\n",
    "\n",
    "def boolean_or(items):\n",
    "    status = reduce(lambda a,b: True if (a | b) else False, items)\n",
    "    return status\n",
    "\n",
    "def boolean_xor(items):\n",
    "    status = reduce(lambda a,b: True if (a ^ b) else False, items)\n",
    "    return status"
   ]
  },
  {
   "cell_type": "code",
   "execution_count": 119,
   "id": "fd498bda",
   "metadata": {},
   "outputs": [
    {
     "data": {
      "text/plain": [
       "False"
      ]
     },
     "execution_count": 119,
     "metadata": {},
     "output_type": "execute_result"
    }
   ],
   "source": [
    "boolean_and([True, True, False, True])"
   ]
  },
  {
   "cell_type": "code",
   "execution_count": 120,
   "id": "78cbf3a6",
   "metadata": {},
   "outputs": [
    {
     "data": {
      "text/plain": [
       "True"
      ]
     },
     "execution_count": 120,
     "metadata": {},
     "output_type": "execute_result"
    }
   ],
   "source": [
    "boolean_or([True, True, False, False])"
   ]
  },
  {
   "cell_type": "code",
   "execution_count": 121,
   "id": "aa6aebfa",
   "metadata": {},
   "outputs": [
    {
     "data": {
      "text/plain": [
       "False"
      ]
     },
     "execution_count": 121,
     "metadata": {},
     "output_type": "execute_result"
    }
   ],
   "source": [
    "boolean_xor([True, True, False, False])"
   ]
  },
  {
   "cell_type": "markdown",
   "id": "e390f50d",
   "metadata": {},
   "source": [
    "## 3. Create a function that creates a box based on dimension n."
   ]
  },
  {
   "cell_type": "markdown",
   "id": "54e1ce7e",
   "metadata": {},
   "source": [
    "Examples\n",
    "\n",
    "make_box(5) ➞ [\n",
    "\n",
    "'#####',\n",
    "\n",
    "'# #',\n",
    "\n",
    "'# #',\n",
    "\n",
    "'# #',\n",
    "\n",
    "'#####'\n",
    "\n",
    "]\n",
    "\n",
    "make_box(3) ➞ [\n",
    "\n",
    "'###',\n",
    "\n",
    "'# #',\n",
    "\n",
    "'###'\n",
    "\n",
    "]\n",
    "\n",
    "make_box(2) ➞ [\n",
    "\n",
    "'##',\n",
    "\n",
    "'##'\n",
    "\n",
    "]\n",
    "\n",
    "make_box(1) ➞ [\n",
    "\n",
    "'#'\n",
    "\n",
    "]"
   ]
  },
  {
   "cell_type": "code",
   "execution_count": 122,
   "id": "231e6206",
   "metadata": {},
   "outputs": [],
   "source": [
    "def makebox(rows):\n",
    "    for i in range(1, rows + 1):\n",
    "        if (i == 1 or i == rows):\n",
    "            for j in range(1, rows + 1):\n",
    "                print(\"*\", end = \"\")\n",
    "\n",
    "        else:\n",
    "            for j in range(1, rows + 1):\n",
    "                if (j == 1 or j == rows):\n",
    "                    print(\"*\", end = \"\")\n",
    "                else:\n",
    "                    print(end = \" \")\n",
    "        print()"
   ]
  },
  {
   "cell_type": "code",
   "execution_count": 123,
   "id": "9156360b",
   "metadata": {},
   "outputs": [
    {
     "name": "stdout",
     "output_type": "stream",
     "text": [
      "*****\n",
      "*   *\n",
      "*   *\n",
      "*   *\n",
      "*****\n"
     ]
    }
   ],
   "source": [
    "makebox(5)"
   ]
  },
  {
   "cell_type": "code",
   "execution_count": 124,
   "id": "c44d6ed1",
   "metadata": {},
   "outputs": [
    {
     "name": "stdout",
     "output_type": "stream",
     "text": [
      "***\n",
      "* *\n",
      "***\n"
     ]
    }
   ],
   "source": [
    "makebox(3)"
   ]
  },
  {
   "cell_type": "code",
   "execution_count": 125,
   "id": "b850fb1a",
   "metadata": {},
   "outputs": [
    {
     "name": "stdout",
     "output_type": "stream",
     "text": [
      "**\n",
      "**\n"
     ]
    }
   ],
   "source": [
    "makebox(2)"
   ]
  },
  {
   "cell_type": "code",
   "execution_count": 126,
   "id": "d4a8c6a3",
   "metadata": {},
   "outputs": [
    {
     "name": "stdout",
     "output_type": "stream",
     "text": [
      "*\n"
     ]
    }
   ],
   "source": [
    "makebox(1)"
   ]
  },
  {
   "cell_type": "markdown",
   "id": "3d340bd0",
   "metadata": {},
   "source": [
    "## 4. Given a common phrase, return False if any individual word in the phrase contains duplicate letters. Return True otherwise."
   ]
  },
  {
   "cell_type": "markdown",
   "id": "576ee5f1",
   "metadata": {},
   "source": [
    "Examples\n",
    "\n",
    "no_duplicate_letters('Fortune favours the bold.') ➞ True\n",
    "\n",
    "no_duplicate_letters('You can lead a horse to water, but you can't make him\n",
    "drink.') ➞ True\n",
    "\n",
    "no_duplicate_letters('Look before you leap.') ➞ False\n",
    "\n",
    "#Duplicate letters in 'Look' and 'before'.\n",
    "\n",
    "no_duplicate_letters('An apple a day keeps the doctor away.') ➞ False\n",
    "\n",
    "#Duplicate letters in 'apple', 'keeps', 'doctor', and 'away'."
   ]
  },
  {
   "cell_type": "code",
   "execution_count": 127,
   "id": "e09127a6",
   "metadata": {},
   "outputs": [],
   "source": [
    "def no_duplicate_letters(text):\n",
    "     \n",
    "    lst = text.split(' ')\n",
    "    for word in lst:\n",
    "        for i in range(len(word)):\n",
    "            for j in range(i + 1,len(word)):\n",
    "                if(word[i] == word[j]):\n",
    "                    return False;\n",
    "\n",
    "        # If no duplicate characters, return true\n",
    "    return True; "
   ]
  },
  {
   "cell_type": "code",
   "execution_count": 128,
   "id": "0365ecb6",
   "metadata": {},
   "outputs": [
    {
     "data": {
      "text/plain": [
       "True"
      ]
     },
     "execution_count": 128,
     "metadata": {},
     "output_type": "execute_result"
    }
   ],
   "source": [
    "no_duplicate_letters('Fortune favours the bold.')"
   ]
  },
  {
   "cell_type": "code",
   "execution_count": 129,
   "id": "50552959",
   "metadata": {},
   "outputs": [
    {
     "data": {
      "text/plain": [
       "True"
      ]
     },
     "execution_count": 129,
     "metadata": {},
     "output_type": "execute_result"
    }
   ],
   "source": [
    "no_duplicate_letters(\"You can lead a horse to water, but you can't make him drink.\")"
   ]
  },
  {
   "cell_type": "code",
   "execution_count": 130,
   "id": "39cd63e6",
   "metadata": {
    "scrolled": true
   },
   "outputs": [
    {
     "data": {
      "text/plain": [
       "False"
      ]
     },
     "execution_count": 130,
     "metadata": {},
     "output_type": "execute_result"
    }
   ],
   "source": [
    "no_duplicate_letters('Look before you leap.')"
   ]
  },
  {
   "cell_type": "code",
   "execution_count": 131,
   "id": "793ca708",
   "metadata": {},
   "outputs": [
    {
     "data": {
      "text/plain": [
       "False"
      ]
     },
     "execution_count": 131,
     "metadata": {},
     "output_type": "execute_result"
    }
   ],
   "source": [
    "no_duplicate_letters('An apple a day keeps the doctor away.')"
   ]
  },
  {
   "cell_type": "markdown",
   "id": "f84892a1",
   "metadata": {},
   "source": [
    "## 5. Write a regular expression that will match the states that voted yes to President Trump&#39;s impeachment. You must use RegEx positive lookahead."
   ]
  },
  {
   "cell_type": "markdown",
   "id": "5a3793c2",
   "metadata": {},
   "source": [
    "Example\n",
    "\n",
    "txt = 'Texas = no, California = yes, Florida = yes, Michigan = no'\n",
    "\n",
    "pattern = '?=yes'\n",
    "\n",
    "re.findall(pattern, txt) ➞ ['California', 'Florida']"
   ]
  },
  {
   "cell_type": "code",
   "execution_count": 132,
   "id": "3fe6d4ee",
   "metadata": {},
   "outputs": [],
   "source": [
    "txt = 'Texas = no, California = yes, Florida = yes, Michigan = no'\n",
    "pattern = '?=yes'"
   ]
  },
  {
   "cell_type": "code",
   "execution_count": 133,
   "id": "34c7283e",
   "metadata": {},
   "outputs": [
    {
     "name": "stdout",
     "output_type": "stream",
     "text": [
      "['California', 'Florida']\n"
     ]
    }
   ],
   "source": [
    "import re\n",
    "pattern = r'\\w+(?= = yes)'\n",
    "result = re.findall(pattern, txt) \n",
    "print(result)"
   ]
  },
  {
   "cell_type": "code",
   "execution_count": null,
   "id": "67914683",
   "metadata": {},
   "outputs": [],
   "source": []
  }
 ],
 "metadata": {
  "kernelspec": {
   "display_name": "Python 3",
   "language": "python",
   "name": "python3"
  },
  "language_info": {
   "codemirror_mode": {
    "name": "ipython",
    "version": 3
   },
   "file_extension": ".py",
   "mimetype": "text/x-python",
   "name": "python",
   "nbconvert_exporter": "python",
   "pygments_lexer": "ipython3",
   "version": "3.8.8"
  }
 },
 "nbformat": 4,
 "nbformat_minor": 5
}
