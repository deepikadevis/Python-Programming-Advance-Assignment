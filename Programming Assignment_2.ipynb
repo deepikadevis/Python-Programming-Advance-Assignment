{
 "cells": [
  {
   "cell_type": "markdown",
   "id": "c55d57cb",
   "metadata": {},
   "source": [
    "# Python Advanced Programming Assignment 02"
   ]
  },
  {
   "cell_type": "markdown",
   "id": "48b160dd",
   "metadata": {},
   "source": [
    "#  1. Write a function that takes a positive integer num and calculates how many dots exist in a pentagonal shape around the center dot on the Nth iteration."
   ]
  },
  {
   "cell_type": "markdown",
   "id": "ebadf678",
   "metadata": {},
   "source": [
    "In the image below you can see the first iteration is only a single dot. On the\n",
    "second, there are 6 dots. On the third, there are 16 dots, and on the fourth\n",
    "there are 31 dots.\n",
    "\n",
    "\n",
    "Return the number of dots that exist in the whole pentagon on the Nth\n",
    "iteration.\n",
    "\n",
    "Examples\n",
    "\n",
    "pentagonal(1) ➞ 1\n",
    "\n",
    "pentagonal(2) ➞ 6\n",
    "\n",
    "pentagonal(3) ➞ 16\n",
    "\n",
    "pentagonal(8) ➞ 141"
   ]
  },
  {
   "cell_type": "code",
   "execution_count": 18,
   "id": "8fc7ee4e",
   "metadata": {},
   "outputs": [],
   "source": [
    "def pentagonal(n): \n",
    "    # Formula to calculate nth Centered pentagonal number.     \n",
    "    return (5 * n * n - 5 * n + 2) // 2"
   ]
  },
  {
   "cell_type": "code",
   "execution_count": 19,
   "id": "cdc3e490",
   "metadata": {
    "scrolled": true
   },
   "outputs": [
    {
     "data": {
      "text/plain": [
       "1"
      ]
     },
     "execution_count": 19,
     "metadata": {},
     "output_type": "execute_result"
    }
   ],
   "source": [
    "pentagonal(1)"
   ]
  },
  {
   "cell_type": "code",
   "execution_count": 20,
   "id": "5cd83ee0",
   "metadata": {},
   "outputs": [
    {
     "data": {
      "text/plain": [
       "6"
      ]
     },
     "execution_count": 20,
     "metadata": {},
     "output_type": "execute_result"
    }
   ],
   "source": [
    "pentagonal(2)"
   ]
  },
  {
   "cell_type": "code",
   "execution_count": 21,
   "id": "a1415da5",
   "metadata": {},
   "outputs": [
    {
     "data": {
      "text/plain": [
       "16"
      ]
     },
     "execution_count": 21,
     "metadata": {},
     "output_type": "execute_result"
    }
   ],
   "source": [
    "pentagonal(3)"
   ]
  },
  {
   "cell_type": "code",
   "execution_count": 22,
   "id": "1af3e3e9",
   "metadata": {},
   "outputs": [
    {
     "data": {
      "text/plain": [
       "141"
      ]
     },
     "execution_count": 22,
     "metadata": {},
     "output_type": "execute_result"
    }
   ],
   "source": [
    "pentagonal(8)"
   ]
  },
  {
   "cell_type": "markdown",
   "id": "1368e0d2",
   "metadata": {},
   "source": [
    "## 2. Make a function that encrypts a given input with these steps:"
   ]
  },
  {
   "cell_type": "markdown",
   "id": "718a6f42",
   "metadata": {},
   "source": [
    "Input: 'apple'\n",
    "\n",
    "Step 1: Reverse the input: 'elppa'\n",
    "\n",
    "Step 2: Replace all vowels using the following chart:\n",
    "\n",
    "a => 0\n",
    "\n",
    "e => 1\n",
    "\n",
    "i => 2\n",
    "\n",
    "o => 2\n",
    "\n",
    "u => 3\n",
    "\n",
    "#'1lpp0'\n",
    "\n",
    "Step 3: Add 'aca' to the end of the word: '1lpp0aca'\n",
    "\n",
    "Output: '1lpp0aca'\n",
    "\n",
    "Examples\n",
    "\n",
    "encrypt('banana') ➞ '0n0n0baca'\n",
    "\n",
    "encrypt('karaca') ➞ '0c0r0kaca'\n",
    "\n",
    "encrypt('burak') ➞ 'k0r3baca'\n",
    "\n",
    "encrypt('alpaca') ➞ '0c0pl0aca'\n"
   ]
  },
  {
   "cell_type": "code",
   "execution_count": 23,
   "id": "cb05fc3a",
   "metadata": {},
   "outputs": [],
   "source": [
    "def encrypt(string):\n",
    "    new_string=''\n",
    "    reverse=string[::-1]\n",
    "    for i in reverse:\n",
    "        if i=='a':\n",
    "            i='0'\n",
    "        elif i=='e':\n",
    "            i='1'\n",
    "        elif i=='i':\n",
    "            i='2'\n",
    "        elif i=='o':\n",
    "            i='2'\n",
    "        elif i=='u':\n",
    "            i='3'\n",
    "        new_string+=i\n",
    "    \n",
    "    new_string=new_string+'aca'\n",
    "    return new_string"
   ]
  },
  {
   "cell_type": "code",
   "execution_count": 24,
   "id": "bf3e3127",
   "metadata": {},
   "outputs": [
    {
     "data": {
      "text/plain": [
       "'1lpp0aca'"
      ]
     },
     "execution_count": 24,
     "metadata": {},
     "output_type": "execute_result"
    }
   ],
   "source": [
    "encrypt('apple')"
   ]
  },
  {
   "cell_type": "code",
   "execution_count": 25,
   "id": "aff8915b",
   "metadata": {},
   "outputs": [
    {
     "data": {
      "text/plain": [
       "'0n0n0baca'"
      ]
     },
     "execution_count": 25,
     "metadata": {},
     "output_type": "execute_result"
    }
   ],
   "source": [
    "encrypt('banana')"
   ]
  },
  {
   "cell_type": "code",
   "execution_count": 26,
   "id": "ecb4ac01",
   "metadata": {},
   "outputs": [
    {
     "data": {
      "text/plain": [
       "'k0r3baca'"
      ]
     },
     "execution_count": 26,
     "metadata": {},
     "output_type": "execute_result"
    }
   ],
   "source": [
    "encrypt('burak')"
   ]
  },
  {
   "cell_type": "code",
   "execution_count": 27,
   "id": "2cd7008e",
   "metadata": {},
   "outputs": [
    {
     "data": {
      "text/plain": [
       "'0c0pl0aca'"
      ]
     },
     "execution_count": 27,
     "metadata": {},
     "output_type": "execute_result"
    }
   ],
   "source": [
    "encrypt('alpaca')"
   ]
  },
  {
   "cell_type": "code",
   "execution_count": 28,
   "id": "f9a538cf",
   "metadata": {},
   "outputs": [
    {
     "data": {
      "text/plain": [
       "'0c0r0kaca'"
      ]
     },
     "execution_count": 28,
     "metadata": {},
     "output_type": "execute_result"
    }
   ],
   "source": [
    "encrypt('karaca')"
   ]
  },
  {
   "cell_type": "markdown",
   "id": "bd696a32",
   "metadata": {},
   "source": [
    "## 3. Given the month and year as numbers, return whether that month contains a Friday 13th.(i.e You can check Python's datetime module)"
   ]
  },
  {
   "cell_type": "markdown",
   "id": "3a1d7d2d",
   "metadata": {},
   "source": [
    "Examples\n",
    "\n",
    "has_friday_13(3, 2020) ➞ True\n",
    "\n",
    "has_friday_13(10, 2017) ➞ True\n",
    "\n",
    "has_friday_13(1, 1985) ➞ False"
   ]
  },
  {
   "cell_type": "code",
   "execution_count": 29,
   "id": "4b6b4244",
   "metadata": {},
   "outputs": [],
   "source": [
    "import datetime \n",
    "def has_friday_13(month,year):\n",
    "    return(True if datetime.datetime.strptime('13 '+' '+str(month)+' '+str(year), '%d %m %Y').weekday()==4 else False) "
   ]
  },
  {
   "cell_type": "code",
   "execution_count": 30,
   "id": "869119c5",
   "metadata": {},
   "outputs": [
    {
     "data": {
      "text/plain": [
       "True"
      ]
     },
     "execution_count": 30,
     "metadata": {},
     "output_type": "execute_result"
    }
   ],
   "source": [
    "has_friday_13(3, 2020)"
   ]
  },
  {
   "cell_type": "code",
   "execution_count": 31,
   "id": "552d741e",
   "metadata": {},
   "outputs": [
    {
     "data": {
      "text/plain": [
       "True"
      ]
     },
     "execution_count": 31,
     "metadata": {},
     "output_type": "execute_result"
    }
   ],
   "source": [
    "has_friday_13(10, 2017)"
   ]
  },
  {
   "cell_type": "code",
   "execution_count": 32,
   "id": "a3aa0931",
   "metadata": {},
   "outputs": [
    {
     "data": {
      "text/plain": [
       "False"
      ]
     },
     "execution_count": 32,
     "metadata": {},
     "output_type": "execute_result"
    }
   ],
   "source": [
    "has_friday_13(1, 1985)"
   ]
  },
  {
   "cell_type": "markdown",
   "id": "a22e1348",
   "metadata": {},
   "source": [
    "## 4. Write a regular expression that will help us count how many bad cookies are produced every day. You must use RegEx negative lookbehind."
   ]
  },
  {
   "cell_type": "markdown",
   "id": "b6e0bc9c",
   "metadata": {},
   "source": [
    "Example\n",
    "\n",
    "lst = ['bad cookie', 'good cookie', 'bad cookie', 'good cookie', 'good cookie']\n",
    "\n",
    "pattern = '^bad\\s\\w'\n",
    "\n",
    "len(re.findall(pattern, ', '.join(lst))) ➞ 2"
   ]
  },
  {
   "cell_type": "code",
   "execution_count": 33,
   "id": "530f9198",
   "metadata": {},
   "outputs": [
    {
     "data": {
      "text/plain": [
       "2"
      ]
     },
     "execution_count": 33,
     "metadata": {},
     "output_type": "execute_result"
    }
   ],
   "source": [
    "import re\n",
    "lst = ['bad cookie', 'good cookie', 'bad cookie', 'good cookie', 'good cookie']\n",
    "pattern = 'bad\\s\\w'\n",
    "len(re.findall(pattern, ', '.join(lst)))"
   ]
  },
  {
   "cell_type": "markdown",
   "id": "fc0bcf65",
   "metadata": {},
   "source": [
    "## 5. Given a list of words in the singular form, return a set of those words in the plural form if they appear more than once in the list."
   ]
  },
  {
   "cell_type": "markdown",
   "id": "6747f5bb",
   "metadata": {},
   "source": [
    "Examples\n",
    "\n",
    "pluralize(['cow', 'pig', 'cow', 'cow']) ➞ { 'cows', 'pig' }\n",
    "\n",
    "pluralize(['table', 'table', 'table']) ➞ { 'tables' }\n",
    "\n",
    "pluralize(['chair', 'pencil', 'arm']) ➞ { 'chair', 'pencil', 'arm' }"
   ]
  },
  {
   "cell_type": "code",
   "execution_count": 34,
   "id": "ae886142",
   "metadata": {},
   "outputs": [],
   "source": [
    "def pluralize(lst):\n",
    "    ls = []\n",
    "    print(\"The List :\",lst)\n",
    "    for i in lst:\n",
    "        if lst.count(i) > 1:\n",
    "            ls.append(i + 's')\n",
    "        else:\n",
    "            ls.append(i)\n",
    "    return set(ls)"
   ]
  },
  {
   "cell_type": "code",
   "execution_count": 35,
   "id": "92bf3dab",
   "metadata": {},
   "outputs": [
    {
     "name": "stdout",
     "output_type": "stream",
     "text": [
      "The List : ['cow', 'pig', 'cow', 'cow']\n"
     ]
    },
    {
     "data": {
      "text/plain": [
       "{'cows', 'pig'}"
      ]
     },
     "execution_count": 35,
     "metadata": {},
     "output_type": "execute_result"
    }
   ],
   "source": [
    "pluralize(['cow', 'pig', 'cow', 'cow'])"
   ]
  },
  {
   "cell_type": "code",
   "execution_count": 36,
   "id": "e88d9bd9",
   "metadata": {},
   "outputs": [
    {
     "name": "stdout",
     "output_type": "stream",
     "text": [
      "The List : ['table', 'table', 'table']\n"
     ]
    },
    {
     "data": {
      "text/plain": [
       "{'tables'}"
      ]
     },
     "execution_count": 36,
     "metadata": {},
     "output_type": "execute_result"
    }
   ],
   "source": [
    "pluralize(['table', 'table', 'table'])"
   ]
  },
  {
   "cell_type": "code",
   "execution_count": 37,
   "id": "d55bdee1",
   "metadata": {},
   "outputs": [
    {
     "name": "stdout",
     "output_type": "stream",
     "text": [
      "The List : ['chair', 'pencil', 'arm']\n"
     ]
    },
    {
     "data": {
      "text/plain": [
       "{'arm', 'chair', 'pencil'}"
      ]
     },
     "execution_count": 37,
     "metadata": {},
     "output_type": "execute_result"
    }
   ],
   "source": [
    "pluralize(['chair', 'pencil', 'arm'])"
   ]
  },
  {
   "cell_type": "code",
   "execution_count": null,
   "id": "6085a6bb",
   "metadata": {},
   "outputs": [],
   "source": []
  }
 ],
 "metadata": {
  "kernelspec": {
   "display_name": "Python 3",
   "language": "python",
   "name": "python3"
  },
  "language_info": {
   "codemirror_mode": {
    "name": "ipython",
    "version": 3
   },
   "file_extension": ".py",
   "mimetype": "text/x-python",
   "name": "python",
   "nbconvert_exporter": "python",
   "pygments_lexer": "ipython3",
   "version": "3.8.8"
  }
 },
 "nbformat": 4,
 "nbformat_minor": 5
}
