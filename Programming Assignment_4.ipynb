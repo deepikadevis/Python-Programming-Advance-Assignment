{
 "cells": [
  {
   "cell_type": "markdown",
   "id": "c55d57cb",
   "metadata": {},
   "source": [
    "# Python Advanced Programming Assignment 04"
   ]
  },
  {
   "cell_type": "markdown",
   "id": "48b160dd",
   "metadata": {},
   "source": [
    "#  1. In mathematics, the Fibonacci numbers, commonly denoted Fn, form a sequence, called the Fibonacci sequence, such that each number is the sum of the two preceding ones, starting from 0 and 1:"
   ]
  },
  {
   "cell_type": "markdown",
   "id": "7212bfa7",
   "metadata": {},
   "source": [
    "The beginning of the sequence is this:\n",
    "\n",
    "0, 1, 1, 2, 3, 5, 8, 13, 21, 34, 55, 89, 144, ...\n",
    "\n",
    "The function fastFib(num) returns the fibonacci number Fn, of the given num\n",
    "as an argument.\n",
    "\n",
    "Examples\n",
    "\n",
    "fib_fast(5) ➞ 5\n",
    "\n",
    "fib_fast(10) ➞ 55\n",
    "\n",
    "fib_fast(20) ➞ 6765\n",
    "\n",
    "fib_fast(50) ➞ 12586269025\n"
   ]
  },
  {
   "cell_type": "code",
   "execution_count": 66,
   "id": "974612e2",
   "metadata": {},
   "outputs": [],
   "source": [
    "def fib_fast(num):\n",
    "    a=0\n",
    "    b=1\n",
    "    for i in range(num):\n",
    "        a,b=b,a+b\n",
    "    return a   "
   ]
  },
  {
   "cell_type": "code",
   "execution_count": 67,
   "id": "e8377702",
   "metadata": {
    "scrolled": true
   },
   "outputs": [
    {
     "data": {
      "text/plain": [
       "0"
      ]
     },
     "execution_count": 67,
     "metadata": {},
     "output_type": "execute_result"
    }
   ],
   "source": [
    "fib_fast(-1)"
   ]
  },
  {
   "cell_type": "code",
   "execution_count": 68,
   "id": "3ecbf070",
   "metadata": {},
   "outputs": [
    {
     "data": {
      "text/plain": [
       "55"
      ]
     },
     "execution_count": 68,
     "metadata": {},
     "output_type": "execute_result"
    }
   ],
   "source": [
    "fib_fast(10)"
   ]
  },
  {
   "cell_type": "code",
   "execution_count": 69,
   "id": "c633b8b3",
   "metadata": {},
   "outputs": [
    {
     "data": {
      "text/plain": [
       "6765"
      ]
     },
     "execution_count": 69,
     "metadata": {},
     "output_type": "execute_result"
    }
   ],
   "source": [
    "fib_fast(20)"
   ]
  },
  {
   "cell_type": "code",
   "execution_count": 70,
   "id": "4162b2ac",
   "metadata": {},
   "outputs": [
    {
     "data": {
      "text/plain": [
       "12586269025"
      ]
     },
     "execution_count": 70,
     "metadata": {},
     "output_type": "execute_result"
    }
   ],
   "source": [
    "fib_fast(50)"
   ]
  },
  {
   "cell_type": "code",
   "execution_count": 71,
   "id": "defeecba",
   "metadata": {},
   "outputs": [
    {
     "data": {
      "text/plain": [
       "1"
      ]
     },
     "execution_count": 71,
     "metadata": {},
     "output_type": "execute_result"
    }
   ],
   "source": [
    "fib_fast(1)"
   ]
  },
  {
   "cell_type": "markdown",
   "id": "1368e0d2",
   "metadata": {},
   "source": [
    "## 2. Create a function that takes a strings characters as ASCII and returns each characters hexadecimal value as a string."
   ]
  },
  {
   "cell_type": "markdown",
   "id": "136f40fa",
   "metadata": {},
   "source": [
    "Examples\n",
    "\n",
    "convert_to_hex('hello world') ➞ '68 65 6c 6c 6f 20 77 6f 72 6c 64'\n",
    "\n",
    "convert_to_hex('Big Boi') ➞ '42 69 67 20 42 6f 69'\n",
    "\n",
    "convert_to_hex('Marty Poppinson') ➞ '4d 61 72 74 79 20 50 6f 70 70 69 6e\n",
    "73 6f 6e'\n"
   ]
  },
  {
   "cell_type": "code",
   "execution_count": 72,
   "id": "9d47b12f",
   "metadata": {},
   "outputs": [],
   "source": [
    "def convert_to_hex(str):\n",
    " \n",
    "    # Initialize final String\n",
    "    hexa = []\n",
    "    for i in range(len(str)):      \n",
    "        ch = str[i]      \n",
    "        in1 = ord(ch)\n",
    "        part = hex(in1).lstrip(\"0x\")\n",
    "        hexa.append(part)\n",
    "    return \" \".join(hexa) "
   ]
  },
  {
   "cell_type": "code",
   "execution_count": 73,
   "id": "0800fe7d",
   "metadata": {},
   "outputs": [
    {
     "data": {
      "text/plain": [
       "'68 65 6c 6c 6f 20 77 6f 72 6c 64'"
      ]
     },
     "execution_count": 73,
     "metadata": {},
     "output_type": "execute_result"
    }
   ],
   "source": [
    "convert_to_hex('hello world') "
   ]
  },
  {
   "cell_type": "code",
   "execution_count": 74,
   "id": "a074c106",
   "metadata": {},
   "outputs": [
    {
     "data": {
      "text/plain": [
       "'42 69 67 20 42 6f 69'"
      ]
     },
     "execution_count": 74,
     "metadata": {},
     "output_type": "execute_result"
    }
   ],
   "source": [
    "convert_to_hex('Big Boi')"
   ]
  },
  {
   "cell_type": "code",
   "execution_count": 75,
   "id": "12aa4233",
   "metadata": {},
   "outputs": [
    {
     "data": {
      "text/plain": [
       "'4d 61 72 74 79 20 50 6f 70 70 69 6e 73 6f 6e'"
      ]
     },
     "execution_count": 75,
     "metadata": {},
     "output_type": "execute_result"
    }
   ],
   "source": [
    "convert_to_hex('Marty Poppinson')"
   ]
  },
  {
   "cell_type": "markdown",
   "id": "8f868b7a",
   "metadata": {},
   "source": [
    "## 3. Someone has attempted to censor my strings by replacing every vowel with a *, l*k* th*s. Luckily, I&#39;ve been able to find the vowels that were removed."
   ]
  },
  {
   "cell_type": "markdown",
   "id": "5254bbca",
   "metadata": {},
   "source": [
    "Given a censored string and a string of the censored vowels, return the\n",
    "original uncensored string.\n",
    "\n",
    "Example\n",
    "\n",
    "uncensor('Wh*r* d*d my v*w*ls g*?', 'eeioeo') ➞ 'Where did my vowels go?'\n",
    "\n",
    "uncensor('abcd', '') ➞ 'abcd'\n",
    "\n",
    "uncensor('*PP*RC*S*', 'UEAE') ➞ 'UPPERCASE'"
   ]
  },
  {
   "cell_type": "code",
   "execution_count": 76,
   "id": "ee2b9694",
   "metadata": {},
   "outputs": [],
   "source": [
    "def uncensor(my_str, vow_str):\n",
    "    c = my_str\n",
    "    r = vow_str\n",
    "    res =''\n",
    "    c_lst = [i for i in c]\n",
    "    count = 0\n",
    "    for i in c_lst:\n",
    "        if i=='*':\n",
    "            res+=r[count]\n",
    "            count+=1\n",
    "        else:\n",
    "            res+=i\n",
    "    return res"
   ]
  },
  {
   "cell_type": "code",
   "execution_count": 77,
   "id": "70a09cf8",
   "metadata": {},
   "outputs": [
    {
     "data": {
      "text/plain": [
       "'Where did my vowels go?'"
      ]
     },
     "execution_count": 77,
     "metadata": {},
     "output_type": "execute_result"
    }
   ],
   "source": [
    "uncensor('Wh*r* d*d my v*w*ls g*?', 'eeioeo')"
   ]
  },
  {
   "cell_type": "code",
   "execution_count": 78,
   "id": "e7e3d14f",
   "metadata": {},
   "outputs": [
    {
     "data": {
      "text/plain": [
       "'abcd'"
      ]
     },
     "execution_count": 78,
     "metadata": {},
     "output_type": "execute_result"
    }
   ],
   "source": [
    "uncensor('abcd', '')"
   ]
  },
  {
   "cell_type": "code",
   "execution_count": 79,
   "id": "d36b46e4",
   "metadata": {},
   "outputs": [
    {
     "data": {
      "text/plain": [
       "'UPPERCASE'"
      ]
     },
     "execution_count": 79,
     "metadata": {},
     "output_type": "execute_result"
    }
   ],
   "source": [
    "uncensor('*PP*RC*S*', 'UEAE')"
   ]
  },
  {
   "cell_type": "markdown",
   "id": "63db2e75",
   "metadata": {},
   "source": [
    "## 4. Write a function that takes an IP address and returns the domain name using PTR DNS records."
   ]
  },
  {
   "cell_type": "markdown",
   "id": "3e5156ea",
   "metadata": {},
   "source": [
    "Example\n",
    "\n",
    "get_domain('8.8.8.8') ➞ 'dns.google'\n",
    "\n",
    "get_domain('8.8.4.4') ➞ 'dns.google'\n"
   ]
  },
  {
   "cell_type": "code",
   "execution_count": 1,
   "id": "d52b3007",
   "metadata": {},
   "outputs": [
    {
     "name": "stdout",
     "output_type": "stream",
     "text": [
      "Collecting dnspython\n",
      "  Downloading dnspython-2.1.0-py3-none-any.whl (241 kB)\n",
      "Installing collected packages: dnspython\n",
      "Successfully installed dnspython-2.1.0\n"
     ]
    }
   ],
   "source": [
    "!pip install dnspython"
   ]
  },
  {
   "cell_type": "code",
   "execution_count": 2,
   "id": "5a91318a",
   "metadata": {},
   "outputs": [],
   "source": [
    "from dns import reversename\n",
    "from dns import resolver\n",
    "\n",
    "def get_domain(ipAdd):\n",
    "\n",
    "    domain_address = reversename.from_address(ipAdd)\n",
    "    domain_name = str(resolver.resolve(domain_address,\"PTR\")[0])\n",
    "    return domain_name"
   ]
  },
  {
   "cell_type": "code",
   "execution_count": 3,
   "id": "f0bb9494",
   "metadata": {},
   "outputs": [
    {
     "data": {
      "text/plain": [
       "'dns.google.'"
      ]
     },
     "execution_count": 3,
     "metadata": {},
     "output_type": "execute_result"
    }
   ],
   "source": [
    "get_domain('8.8.8.8') "
   ]
  },
  {
   "cell_type": "code",
   "execution_count": 4,
   "id": "4c6aac37",
   "metadata": {},
   "outputs": [
    {
     "data": {
      "text/plain": [
       "'dns.google.'"
      ]
     },
     "execution_count": 4,
     "metadata": {},
     "output_type": "execute_result"
    }
   ],
   "source": [
    "get_domain('8.8.4.4')"
   ]
  },
  {
   "cell_type": "markdown",
   "id": "9ea9bfb7",
   "metadata": {},
   "source": [
    "## 5. Create a function that takes an integer n and returns the factorial of factorials. See below examples for a better understanding:"
   ]
  },
  {
   "cell_type": "markdown",
   "id": "e3a9d1e5",
   "metadata": {},
   "source": [
    "Examples\n",
    "\n",
    "fact_of_fact(4) ➞ 288\n",
    "\n",
    "#4! * 3! * 2! * 1! = 288\n",
    "\n",
    "fact_of_fact(5) ➞ 34560\n",
    "\n",
    "fact_of_fact(6) ➞ 24883200\n"
   ]
  },
  {
   "cell_type": "code",
   "execution_count": 5,
   "id": "dfd76041",
   "metadata": {},
   "outputs": [],
   "source": [
    "def fact_of_fact(number):\n",
    "    fact=1\n",
    "    for i in range(number,0,-1):\n",
    "        fact=fact*mid(i)\n",
    "    return fact\n",
    "\n",
    "def mid(num):\n",
    "    fact2=1\n",
    "    for j in range(num,0,-1):\n",
    "        fact2=fact2*j\n",
    "    return fact2"
   ]
  },
  {
   "cell_type": "code",
   "execution_count": 6,
   "id": "ab4ba188",
   "metadata": {},
   "outputs": [
    {
     "data": {
      "text/plain": [
       "288"
      ]
     },
     "execution_count": 6,
     "metadata": {},
     "output_type": "execute_result"
    }
   ],
   "source": [
    "fact_of_fact(4)"
   ]
  },
  {
   "cell_type": "code",
   "execution_count": 7,
   "id": "438c2438",
   "metadata": {},
   "outputs": [
    {
     "data": {
      "text/plain": [
       "34560"
      ]
     },
     "execution_count": 7,
     "metadata": {},
     "output_type": "execute_result"
    }
   ],
   "source": [
    "fact_of_fact(5)"
   ]
  },
  {
   "cell_type": "code",
   "execution_count": 8,
   "id": "9bde9f8a",
   "metadata": {},
   "outputs": [
    {
     "data": {
      "text/plain": [
       "24883200"
      ]
     },
     "execution_count": 8,
     "metadata": {},
     "output_type": "execute_result"
    }
   ],
   "source": [
    "fact_of_fact(6)"
   ]
  },
  {
   "cell_type": "code",
   "execution_count": null,
   "id": "286b35a8",
   "metadata": {},
   "outputs": [],
   "source": []
  }
 ],
 "metadata": {
  "kernelspec": {
   "display_name": "Python 3",
   "language": "python",
   "name": "python3"
  },
  "language_info": {
   "codemirror_mode": {
    "name": "ipython",
    "version": 3
   },
   "file_extension": ".py",
   "mimetype": "text/x-python",
   "name": "python",
   "nbconvert_exporter": "python",
   "pygments_lexer": "ipython3",
   "version": "3.8.8"
  }
 },
 "nbformat": 4,
 "nbformat_minor": 5
}
